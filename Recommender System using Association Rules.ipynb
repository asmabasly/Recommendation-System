{
  "cells": [
    {
      "cell_type": "markdown",
      "metadata": {
        "id": "e1LaDEca1Z6b"
      },
      "source": [
        "# Recommender System using Association Rules\n"
      ]
    },
    {
      "cell_type": "markdown",
      "metadata": {
        "id": "AQs6DMnT1Z6e"
      },
      "source": [
        "The objective of the system developed below is to **anticipate the customers' needs** of an online store with the development of a recommendation system.\n",
        "\n",
        "A recommandation system enables to **personalize** the products' recommendation according to the needs of each customer. \n",
        "\n",
        "Such a system serves the interests of both **the customer and the company**. \n",
        "\n",
        "* **For the customers :** This makes it easier to find products that interest them. Their search for the next product to buy is facilitated, and their user experience is therefore significantly improved. Customers are therefore more satisfied.\n",
        "\n",
        "* **For the company :** As far as the company is concerned, a recommendation engine allows to improve the loyalty of its customers. As they are satisfied with the products they buy, they are more likely to collaborate with the company. The churn rate decreases, allowing the company to reduce its costs related to the acquisition of new customers. And of course, the company sees its turnover increase with the proposition of new products to the customers with cross selling.\n",
        "\n",
        "The recommendation engine developed is therefore based on a public dataset proposed by [The UCI Machine Learning Repository](http://archive.ics.uci.edu/ml/index.php) . This dataset contains the transaction history of an online store over 1 year.\n",
        "\n",
        "The goal of the system is therefore to propose 1 product to each customer based on their current shopping basket that maximizes the probability of purchase. The final table is composed of the customer identifiers associated with the product that is proposed to him and the associated purchase probability. \n"
      ]
    },
    {
      "cell_type": "markdown",
      "metadata": {
        "id": "YAlDJGyV1Z6f"
      },
      "source": [
        "# 1. Set up environment "
      ]
    },
    {
      "cell_type": "markdown",
      "metadata": {
        "id": "Kp5QK1861Z6h"
      },
      "source": [
        "### Load package *fpgrowth_py* for association rules"
      ]
    },
    {
      "cell_type": "code",
      "execution_count": 1,
      "metadata": {
        "execution": {
          "iopub.execute_input": "2023-04-25T09:37:18.665715Z",
          "iopub.status.busy": "2023-04-25T09:37:18.665296Z",
          "iopub.status.idle": "2023-04-25T09:37:18.669838Z",
          "shell.execute_reply": "2023-04-25T09:37:18.668787Z",
          "shell.execute_reply.started": "2023-04-25T09:37:18.665652Z"
        },
        "id": "0st16AR_1Z6h",
        "trusted": true
      },
      "outputs": [],
      "source": [
        "import numpy as np # linear algebra\n",
        "import pandas as pd # data processing, CSV file I/O (e.g. pd.read_csv)\n"
      ]
    },
    {
      "cell_type": "code",
      "execution_count": 2,
      "metadata": {
        "colab": {
          "base_uri": "https://localhost:8080/"
        },
        "execution": {
          "iopub.execute_input": "2023-04-25T09:46:56.895052Z",
          "iopub.status.busy": "2023-04-25T09:46:56.894718Z",
          "iopub.status.idle": "2023-04-25T09:49:26.493625Z",
          "shell.execute_reply": "2023-04-25T09:49:26.492634Z",
          "shell.execute_reply.started": "2023-04-25T09:46:56.895021Z"
        },
        "id": "VBSkgDHj1Z6i",
        "outputId": "f725e509-06c1-4d33-e64b-b369057558d0",
        "trusted": true
      },
      "outputs": [
        {
          "name": "stdout",
          "output_type": "stream",
          "text": [
            "Looking in indexes: https://pypi.org/simple, https://us-python.pkg.dev/colab-wheels/public/simple/\n",
            "Collecting fpgrowth_py\n",
            "  Downloading fpgrowth_py-1.0.0-py3-none-any.whl (5.6 kB)\n",
            "Installing collected packages: fpgrowth_py\n",
            "Successfully installed fpgrowth_py-1.0.0\n"
          ]
        }
      ],
      "source": [
        "! pip install fpgrowth_py"
      ]
    },
    {
      "cell_type": "markdown",
      "metadata": {
        "id": "CmWNMs2A1Z6i"
      },
      "source": [
        "# 2. Import some libraries & data transformation"
      ]
    },
    {
      "cell_type": "code",
      "execution_count": null,
      "metadata": {
        "colab": {
          "base_uri": "https://localhost:8080/",
          "height": 241
        },
        "execution": {
          "iopub.execute_input": "2023-04-25T09:46:52.299482Z",
          "iopub.status.busy": "2023-04-25T09:46:52.299147Z",
          "iopub.status.idle": "2023-04-25T09:46:52.372091Z",
          "shell.execute_reply": "2023-04-25T09:46:52.370548Z",
          "shell.execute_reply.started": "2023-04-25T09:46:52.299447Z"
        },
        "id": "hyrfIoyt1Z6i",
        "outputId": "41eec197-65f5-4288-9525-a7f93f27550f",
        "trusted": true
      },
      "outputs": [],
      "source": [
        "from fpgrowth_py import fpgrowth\n",
        "import numpy as np # linear algebra\n",
        "import pandas as pd # data processing, CSV file I/O (e.g. pd.read_csv)\n",
        "# here we will import the libraries used for machine learning\n",
        "import numpy as np # linear algebra\n",
        "import pandas as pd # data processing, data manipulation as in SQL\n",
        "import matplotlib.pyplot as plt # this is used for the plot the graph \n",
        "import seaborn as sns # used for plot interactive graph\n",
        "%matplotlib inline\n",
        "import time\n",
        "\n",
        "data=pd.read_csv('data.csv') # import from a csv file\n",
        "data=data.dropna()\n",
        "print('The dimensions of the dataset are : ', data.shape)\n",
        "print('---------')\n",
        "data.head()"
      ]
    },
    {
      "cell_type": "markdown",
      "metadata": {
        "id": "dqdQ2rEa1Z6j"
      },
      "source": [
        "**Variables explanation :**\n",
        "\n",
        "* **product_id** : Identifier of the purchased product. Each identifier is different. \n",
        "* **TITRE_PRODUIT** : Description of the purchased product. \n",
        "* **qty_ordered** : Quantity of product purchased\n",
        "* **Price** : Price of one product. \n",
        "* **Customer_id** : Identifier of the customer. Each identifier is different.  \n",
        "* **base_row_total** : Price of all the same products purchased.*\n",
        "\n"
      ]
    },
    {
      "cell_type": "markdown",
      "metadata": {
        "id": "Tyi_Iqqu1Z6j"
      },
      "source": [
        "# 3. Data preprocessing"
      ]
    },
    {
      "cell_type": "markdown",
      "metadata": {
        "id": "8ABdJ0bL1Z6j"
      },
      "source": [
        "\n",
        "* #### We group all the products a customer has purchased together. Each line corresponds to a transaction composed of the invoice number, the customer ID and all the products purchased.\n"
      ]
    },
    {
      "cell_type": "code",
      "execution_count": 4,
      "metadata": {
        "colab": {
          "base_uri": "https://localhost:8080/",
          "height": 272
        },
        "execution": {
          "iopub.execute_input": "2021-06-01T18:58:48.497416Z",
          "iopub.status.busy": "2021-06-01T18:58:48.496981Z",
          "iopub.status.idle": "2021-06-01T18:58:49.579756Z",
          "shell.execute_reply": "2021-06-01T18:58:49.578653Z",
          "shell.execute_reply.started": "2021-06-01T18:58:48.497379Z"
        },
        "id": "C4IqHjq91Z6j",
        "outputId": "a23e3ba5-d4c2-4103-8442-4a5497b71f45",
        "trusted": true
      },
      "outputs": [
        {
          "name": "stdout",
          "output_type": "stream",
          "text": [
            "Dimension of the new grouped dataset :  (1931, 1)\n",
            "----------\n"
          ]
        },
        {
          "data": {
            "text/html": [
              "\n",
              "  <div id=\"df-756ad64c-470f-412d-81fb-98ae1f5629eb\">\n",
              "    <div class=\"colab-df-container\">\n",
              "      <div>\n",
              "<style scoped>\n",
              "    .dataframe tbody tr th:only-of-type {\n",
              "        vertical-align: middle;\n",
              "    }\n",
              "\n",
              "    .dataframe tbody tr th {\n",
              "        vertical-align: top;\n",
              "    }\n",
              "\n",
              "    .dataframe thead th {\n",
              "        text-align: right;\n",
              "    }\n",
              "</style>\n",
              "<table border=\"1\" class=\"dataframe\">\n",
              "  <thead>\n",
              "    <tr style=\"text-align: right;\">\n",
              "      <th></th>\n",
              "      <th>product_id</th>\n",
              "    </tr>\n",
              "    <tr>\n",
              "      <th>customer_id</th>\n",
              "      <th></th>\n",
              "    </tr>\n",
              "  </thead>\n",
              "  <tbody>\n",
              "    <tr>\n",
              "      <th>4.0</th>\n",
              "      <td>[6880, 6629, 6630, 15165, 588, 6061, 1981, 124...</td>\n",
              "    </tr>\n",
              "    <tr>\n",
              "      <th>9.0</th>\n",
              "      <td>[5410, 14083, 2627, 13733, 4901, 99, 10830, 10...</td>\n",
              "    </tr>\n",
              "    <tr>\n",
              "      <th>17.0</th>\n",
              "      <td>[11136, 13568, 6785, 21379, 2563, 17290, 6414,...</td>\n",
              "    </tr>\n",
              "    <tr>\n",
              "      <th>17167.0</th>\n",
              "      <td>[13829, 15367, 4109, 19473, 34, 5668, 39, 560,...</td>\n",
              "    </tr>\n",
              "    <tr>\n",
              "      <th>25230.0</th>\n",
              "      <td>[834, 835, 10788, 3462, 583, 1065, 5099, 6513]</td>\n",
              "    </tr>\n",
              "  </tbody>\n",
              "</table>\n",
              "</div>\n",
              "      <button class=\"colab-df-convert\" onclick=\"convertToInteractive('df-756ad64c-470f-412d-81fb-98ae1f5629eb')\"\n",
              "              title=\"Convert this dataframe to an interactive table.\"\n",
              "              style=\"display:none;\">\n",
              "        \n",
              "  <svg xmlns=\"http://www.w3.org/2000/svg\" height=\"24px\"viewBox=\"0 0 24 24\"\n",
              "       width=\"24px\">\n",
              "    <path d=\"M0 0h24v24H0V0z\" fill=\"none\"/>\n",
              "    <path d=\"M18.56 5.44l.94 2.06.94-2.06 2.06-.94-2.06-.94-.94-2.06-.94 2.06-2.06.94zm-11 1L8.5 8.5l.94-2.06 2.06-.94-2.06-.94L8.5 2.5l-.94 2.06-2.06.94zm10 10l.94 2.06.94-2.06 2.06-.94-2.06-.94-.94-2.06-.94 2.06-2.06.94z\"/><path d=\"M17.41 7.96l-1.37-1.37c-.4-.4-.92-.59-1.43-.59-.52 0-1.04.2-1.43.59L10.3 9.45l-7.72 7.72c-.78.78-.78 2.05 0 2.83L4 21.41c.39.39.9.59 1.41.59.51 0 1.02-.2 1.41-.59l7.78-7.78 2.81-2.81c.8-.78.8-2.07 0-2.86zM5.41 20L4 18.59l7.72-7.72 1.47 1.35L5.41 20z\"/>\n",
              "  </svg>\n",
              "      </button>\n",
              "      \n",
              "  <style>\n",
              "    .colab-df-container {\n",
              "      display:flex;\n",
              "      flex-wrap:wrap;\n",
              "      gap: 12px;\n",
              "    }\n",
              "\n",
              "    .colab-df-convert {\n",
              "      background-color: #E8F0FE;\n",
              "      border: none;\n",
              "      border-radius: 50%;\n",
              "      cursor: pointer;\n",
              "      display: none;\n",
              "      fill: #1967D2;\n",
              "      height: 32px;\n",
              "      padding: 0 0 0 0;\n",
              "      width: 32px;\n",
              "    }\n",
              "\n",
              "    .colab-df-convert:hover {\n",
              "      background-color: #E2EBFA;\n",
              "      box-shadow: 0px 1px 2px rgba(60, 64, 67, 0.3), 0px 1px 3px 1px rgba(60, 64, 67, 0.15);\n",
              "      fill: #174EA6;\n",
              "    }\n",
              "\n",
              "    [theme=dark] .colab-df-convert {\n",
              "      background-color: #3B4455;\n",
              "      fill: #D2E3FC;\n",
              "    }\n",
              "\n",
              "    [theme=dark] .colab-df-convert:hover {\n",
              "      background-color: #434B5C;\n",
              "      box-shadow: 0px 1px 3px 1px rgba(0, 0, 0, 0.15);\n",
              "      filter: drop-shadow(0px 1px 2px rgba(0, 0, 0, 0.3));\n",
              "      fill: #FFFFFF;\n",
              "    }\n",
              "  </style>\n",
              "\n",
              "      <script>\n",
              "        const buttonEl =\n",
              "          document.querySelector('#df-756ad64c-470f-412d-81fb-98ae1f5629eb button.colab-df-convert');\n",
              "        buttonEl.style.display =\n",
              "          google.colab.kernel.accessAllowed ? 'block' : 'none';\n",
              "\n",
              "        async function convertToInteractive(key) {\n",
              "          const element = document.querySelector('#df-756ad64c-470f-412d-81fb-98ae1f5629eb');\n",
              "          const dataTable =\n",
              "            await google.colab.kernel.invokeFunction('convertToInteractive',\n",
              "                                                     [key], {});\n",
              "          if (!dataTable) return;\n",
              "\n",
              "          const docLinkHtml = 'Like what you see? Visit the ' +\n",
              "            '<a target=\"_blank\" href=https://colab.research.google.com/notebooks/data_table.ipynb>data table notebook</a>'\n",
              "            + ' to learn more about interactive tables.';\n",
              "          element.innerHTML = '';\n",
              "          dataTable['output_type'] = 'display_data';\n",
              "          await google.colab.output.renderOutput(dataTable, element);\n",
              "          const docLink = document.createElement('div');\n",
              "          docLink.innerHTML = docLinkHtml;\n",
              "          element.appendChild(docLink);\n",
              "        }\n",
              "      </script>\n",
              "    </div>\n",
              "  </div>\n",
              "  "
            ],
            "text/plain": [
              "                                                    product_id\n",
              "customer_id                                                   \n",
              "4.0          [6880, 6629, 6630, 15165, 588, 6061, 1981, 124...\n",
              "9.0          [5410, 14083, 2627, 13733, 4901, 99, 10830, 10...\n",
              "17.0         [11136, 13568, 6785, 21379, 2563, 17290, 6414,...\n",
              "17167.0      [13829, 15367, 4109, 19473, 34, 5668, 39, 560,...\n",
              "25230.0         [834, 835, 10788, 3462, 583, 1065, 5099, 6513]"
            ]
          },
          "execution_count": 4,
          "metadata": {},
          "output_type": "execute_result"
        }
      ],
      "source": [
        "liste= data['product_id'].unique() \n",
        "stock_to_del=[]\n",
        "data=data[data['product_id'].map(lambda x: x not in stock_to_del)] # delete these products\n",
        "\n",
        "basket = data.groupby(['customer_id']).agg({'product_id': lambda s: list(set(s))}) # grouping product from the same invoice. \n",
        "\n",
        "print('Dimension of the new grouped dataset : ', basket.shape)\n",
        "print('----------')\n",
        "basket.head()"
      ]
    },
    {
      "cell_type": "markdown",
      "metadata": {
        "id": "ljqDRCOo1Z6k"
      },
      "source": [
        "# 4. Association Rules modelling : Fp growth algorithm"
      ]
    },
    {
      "cell_type": "markdown",
      "metadata": {
        "id": "vXoPKX-G1Z6k"
      },
      "source": [
        "Fp Growth is a Data Mining model based on **association rules**.\n",
        "\n",
        "This model allows, from a transaction history, to determine the set of most frequent association rules in the dataset. To do so, it needs as input parameter the set of transactions composed of the product baskets the customers have already purchased. \n",
        "\n",
        "Given a dataset of transactions, the first step of FP-growth is to calculate item frequencies and identify frequent items.\n",
        "\n",
        "The second step of FP-growth uses a suffix tree (FP-tree) structure to encode transactions without generating candidate sets explicitly, which are usually expensive to generate. After the second step, the frequent itemsets can be extracted from the FP-tree and the model returns a set of product association rules like the example below: \n",
        "\n",
        "            {Product A + Product B} --> {Product C} with 60% probability\n",
        "            {Product B + Product C} --> {Product A + Product D} with 78% probability\n",
        "            {Prodcut C} --> {Product B + Product D} with 67% probability\n",
        "            etc.\n",
        "            \n",
        "To establish this table, the model needs to be provided with 2 hyperparameters :\n",
        "* **minSupRatio** : minimum support for an itemset to be identified as frequent. For example, if an item appears 3 out of 5 transactions, it has a support of 3/5=0.6.\n",
        "* **minConf** :minimum confidence for generating Association Rule. Confidence is an indication of how often an association rule has been found to be true. For example, if in the transactions itemset X appears 4 times, X and Y co-occur only 2 times, the confidence for the rule X => Y is then 2/4 = 0.5. The parameter will not affect the mining for frequent itemsets, but specify the minimum confidence for generating association rules from frequent itemsets.\n",
        "\n",
        "Once the association rules have been calculated, all you have to do is apply them to the customers' product baskets. "
      ]
    },
    {
      "cell_type": "code",
      "execution_count": 5,
      "metadata": {
        "colab": {
          "base_uri": "https://localhost:8080/",
          "height": 415
        },
        "execution": {
          "iopub.execute_input": "2021-06-01T19:34:52.558831Z",
          "iopub.status.busy": "2021-06-01T19:34:52.55833Z",
          "iopub.status.idle": "2021-06-01T19:41:05.308212Z",
          "shell.execute_reply": "2021-06-01T19:41:05.30702Z",
          "shell.execute_reply.started": "2021-06-01T19:34:52.558786Z"
        },
        "id": "HmN4H5Ex1Z6k",
        "outputId": "264be59b-213b-489d-ed6d-1dfedbb7378d",
        "trusted": true
      },
      "outputs": [
        {
          "name": "stdout",
          "output_type": "stream",
          "text": [
            "time to execute in seconds :  2654.136816263199  s.\n",
            "Number of rules generated :  343735\n",
            "Dimensions of the association table are :  (343735, 3)\n"
          ]
        },
        {
          "data": {
            "text/html": [
              "\n",
              "  <div id=\"df-f2b133a2-ed48-4c2d-9710-cfe72ed39dd7\">\n",
              "    <div class=\"colab-df-container\">\n",
              "      <div>\n",
              "<style scoped>\n",
              "    .dataframe tbody tr th:only-of-type {\n",
              "        vertical-align: middle;\n",
              "    }\n",
              "\n",
              "    .dataframe tbody tr th {\n",
              "        vertical-align: top;\n",
              "    }\n",
              "\n",
              "    .dataframe thead th {\n",
              "        text-align: right;\n",
              "    }\n",
              "</style>\n",
              "<table border=\"1\" class=\"dataframe\">\n",
              "  <thead>\n",
              "    <tr style=\"text-align: right;\">\n",
              "      <th></th>\n",
              "      <th>basket</th>\n",
              "      <th>next_product</th>\n",
              "      <th>proba</th>\n",
              "    </tr>\n",
              "  </thead>\n",
              "  <tbody>\n",
              "    <tr>\n",
              "      <th>274984</th>\n",
              "      <td>{560, 15864, 15091, 15149}</td>\n",
              "      <td>{15133}</td>\n",
              "      <td>1.0</td>\n",
              "    </tr>\n",
              "    <tr>\n",
              "      <th>160694</th>\n",
              "      <td>{15136, 15163, 15148, 15091, 15864, 15131}</td>\n",
              "      <td>{15133}</td>\n",
              "      <td>1.0</td>\n",
              "    </tr>\n",
              "    <tr>\n",
              "      <th>63426</th>\n",
              "      <td>{15136, 15091, 14745, 15130, 15135}</td>\n",
              "      <td>{15133}</td>\n",
              "      <td>1.0</td>\n",
              "    </tr>\n",
              "    <tr>\n",
              "      <th>160412</th>\n",
              "      <td>{15131, 15148, 15091, 15864, 15163, 15135}</td>\n",
              "      <td>{15133}</td>\n",
              "      <td>1.0</td>\n",
              "    </tr>\n",
              "    <tr>\n",
              "      <th>160413</th>\n",
              "      <td>{15131, 15091, 15864, 15163, 15133, 15135}</td>\n",
              "      <td>{15148}</td>\n",
              "      <td>1.0</td>\n",
              "    </tr>\n",
              "    <tr>\n",
              "      <th>160460</th>\n",
              "      <td>{15131, 15148, 15864, 15163, 15135}</td>\n",
              "      <td>{15133}</td>\n",
              "      <td>1.0</td>\n",
              "    </tr>\n",
              "    <tr>\n",
              "      <th>160461</th>\n",
              "      <td>{15131, 15864, 15163, 15133, 15135}</td>\n",
              "      <td>{15148}</td>\n",
              "      <td>1.0</td>\n",
              "    </tr>\n",
              "    <tr>\n",
              "      <th>11483</th>\n",
              "      <td>{15131, 15155, 15148, 15149}</td>\n",
              "      <td>{15133}</td>\n",
              "      <td>1.0</td>\n",
              "    </tr>\n",
              "    <tr>\n",
              "      <th>332212</th>\n",
              "      <td>{6241, 15133, 3829, 14745, 6237}</td>\n",
              "      <td>{15091}</td>\n",
              "      <td>1.0</td>\n",
              "    </tr>\n",
              "    <tr>\n",
              "      <th>63351</th>\n",
              "      <td>{15136, 14745, 15130, 15135}</td>\n",
              "      <td>{15133}</td>\n",
              "      <td>1.0</td>\n",
              "    </tr>\n",
              "  </tbody>\n",
              "</table>\n",
              "</div>\n",
              "      <button class=\"colab-df-convert\" onclick=\"convertToInteractive('df-f2b133a2-ed48-4c2d-9710-cfe72ed39dd7')\"\n",
              "              title=\"Convert this dataframe to an interactive table.\"\n",
              "              style=\"display:none;\">\n",
              "        \n",
              "  <svg xmlns=\"http://www.w3.org/2000/svg\" height=\"24px\"viewBox=\"0 0 24 24\"\n",
              "       width=\"24px\">\n",
              "    <path d=\"M0 0h24v24H0V0z\" fill=\"none\"/>\n",
              "    <path d=\"M18.56 5.44l.94 2.06.94-2.06 2.06-.94-2.06-.94-.94-2.06-.94 2.06-2.06.94zm-11 1L8.5 8.5l.94-2.06 2.06-.94-2.06-.94L8.5 2.5l-.94 2.06-2.06.94zm10 10l.94 2.06.94-2.06 2.06-.94-2.06-.94-.94-2.06-.94 2.06-2.06.94z\"/><path d=\"M17.41 7.96l-1.37-1.37c-.4-.4-.92-.59-1.43-.59-.52 0-1.04.2-1.43.59L10.3 9.45l-7.72 7.72c-.78.78-.78 2.05 0 2.83L4 21.41c.39.39.9.59 1.41.59.51 0 1.02-.2 1.41-.59l7.78-7.78 2.81-2.81c.8-.78.8-2.07 0-2.86zM5.41 20L4 18.59l7.72-7.72 1.47 1.35L5.41 20z\"/>\n",
              "  </svg>\n",
              "      </button>\n",
              "      \n",
              "  <style>\n",
              "    .colab-df-container {\n",
              "      display:flex;\n",
              "      flex-wrap:wrap;\n",
              "      gap: 12px;\n",
              "    }\n",
              "\n",
              "    .colab-df-convert {\n",
              "      background-color: #E8F0FE;\n",
              "      border: none;\n",
              "      border-radius: 50%;\n",
              "      cursor: pointer;\n",
              "      display: none;\n",
              "      fill: #1967D2;\n",
              "      height: 32px;\n",
              "      padding: 0 0 0 0;\n",
              "      width: 32px;\n",
              "    }\n",
              "\n",
              "    .colab-df-convert:hover {\n",
              "      background-color: #E2EBFA;\n",
              "      box-shadow: 0px 1px 2px rgba(60, 64, 67, 0.3), 0px 1px 3px 1px rgba(60, 64, 67, 0.15);\n",
              "      fill: #174EA6;\n",
              "    }\n",
              "\n",
              "    [theme=dark] .colab-df-convert {\n",
              "      background-color: #3B4455;\n",
              "      fill: #D2E3FC;\n",
              "    }\n",
              "\n",
              "    [theme=dark] .colab-df-convert:hover {\n",
              "      background-color: #434B5C;\n",
              "      box-shadow: 0px 1px 3px 1px rgba(0, 0, 0, 0.15);\n",
              "      filter: drop-shadow(0px 1px 2px rgba(0, 0, 0, 0.3));\n",
              "      fill: #FFFFFF;\n",
              "    }\n",
              "  </style>\n",
              "\n",
              "      <script>\n",
              "        const buttonEl =\n",
              "          document.querySelector('#df-f2b133a2-ed48-4c2d-9710-cfe72ed39dd7 button.colab-df-convert');\n",
              "        buttonEl.style.display =\n",
              "          google.colab.kernel.accessAllowed ? 'block' : 'none';\n",
              "\n",
              "        async function convertToInteractive(key) {\n",
              "          const element = document.querySelector('#df-f2b133a2-ed48-4c2d-9710-cfe72ed39dd7');\n",
              "          const dataTable =\n",
              "            await google.colab.kernel.invokeFunction('convertToInteractive',\n",
              "                                                     [key], {});\n",
              "          if (!dataTable) return;\n",
              "\n",
              "          const docLinkHtml = 'Like what you see? Visit the ' +\n",
              "            '<a target=\"_blank\" href=https://colab.research.google.com/notebooks/data_table.ipynb>data table notebook</a>'\n",
              "            + ' to learn more about interactive tables.';\n",
              "          element.innerHTML = '';\n",
              "          dataTable['output_type'] = 'display_data';\n",
              "          await google.colab.output.renderOutput(dataTable, element);\n",
              "          const docLink = document.createElement('div');\n",
              "          docLink.innerHTML = docLinkHtml;\n",
              "          element.appendChild(docLink);\n",
              "        }\n",
              "      </script>\n",
              "    </div>\n",
              "  </div>\n",
              "  "
            ],
            "text/plain": [
              "                                            basket next_product  proba\n",
              "274984                  {560, 15864, 15091, 15149}      {15133}    1.0\n",
              "160694  {15136, 15163, 15148, 15091, 15864, 15131}      {15133}    1.0\n",
              "63426          {15136, 15091, 14745, 15130, 15135}      {15133}    1.0\n",
              "160412  {15131, 15148, 15091, 15864, 15163, 15135}      {15133}    1.0\n",
              "160413  {15131, 15091, 15864, 15163, 15133, 15135}      {15148}    1.0\n",
              "160460         {15131, 15148, 15864, 15163, 15135}      {15133}    1.0\n",
              "160461         {15131, 15864, 15163, 15133, 15135}      {15148}    1.0\n",
              "11483                 {15131, 15155, 15148, 15149}      {15133}    1.0\n",
              "332212            {6241, 15133, 3829, 14745, 6237}      {15091}    1.0\n",
              "63351                 {15136, 14745, 15130, 15135}      {15133}    1.0"
            ]
          },
          "execution_count": 5,
          "metadata": {},
          "output_type": "execute_result"
        }
      ],
      "source": [
        "a=time.time()\n",
        "freqItemSet, rules = fpgrowth(basket['product_id'].values, minSupRatio=0.01, minConf=0.3)\n",
        "b=time.time()\n",
        "print('time to execute in seconds : ',b-a, ' s.')\n",
        "print('Number of rules generated : ', len(rules))\n",
        "\n",
        "association=pd.DataFrame(rules,columns =['basket','next_product','proba']) \n",
        "association=association.sort_values(by='proba',ascending=False)\n",
        "print('Dimensions of the association table are : ', association.shape)\n"
      ]
    },
    {
      "cell_type": "code",
      "execution_count": 7,
      "metadata": {
        "colab": {
          "base_uri": "https://localhost:8080/",
          "height": 415
        },
        "id": "vbSWNOlMLC3b",
        "outputId": "6c43d476-049b-4a1c-b837-63b247fb1afd"
      },
      "outputs": [
        {
          "name": "stdout",
          "output_type": "stream",
          "text": [
            "time to execute in seconds :  2654.4946296215057  s.\n",
            "Number of rules generated :  343735\n",
            "Dimensions of the association table are :  (343735, 3)\n"
          ]
        },
        {
          "data": {
            "text/html": [
              "\n",
              "  <div id=\"df-538a5a8e-8ace-4145-b537-77ac6cbf3ba3\">\n",
              "    <div class=\"colab-df-container\">\n",
              "      <div>\n",
              "<style scoped>\n",
              "    .dataframe tbody tr th:only-of-type {\n",
              "        vertical-align: middle;\n",
              "    }\n",
              "\n",
              "    .dataframe tbody tr th {\n",
              "        vertical-align: top;\n",
              "    }\n",
              "\n",
              "    .dataframe thead th {\n",
              "        text-align: right;\n",
              "    }\n",
              "</style>\n",
              "<table border=\"1\" class=\"dataframe\">\n",
              "  <thead>\n",
              "    <tr style=\"text-align: right;\">\n",
              "      <th></th>\n",
              "      <th>basket</th>\n",
              "      <th>next_product</th>\n",
              "      <th>proba</th>\n",
              "    </tr>\n",
              "  </thead>\n",
              "  <tbody>\n",
              "    <tr>\n",
              "      <th>274984</th>\n",
              "      <td>{560, 15864, 15091, 15149}</td>\n",
              "      <td>{15133}</td>\n",
              "      <td>1.0</td>\n",
              "    </tr>\n",
              "    <tr>\n",
              "      <th>160694</th>\n",
              "      <td>{15136, 15163, 15148, 15091, 15864, 15131}</td>\n",
              "      <td>{15133}</td>\n",
              "      <td>1.0</td>\n",
              "    </tr>\n",
              "    <tr>\n",
              "      <th>63426</th>\n",
              "      <td>{15136, 15091, 14745, 15130, 15135}</td>\n",
              "      <td>{15133}</td>\n",
              "      <td>1.0</td>\n",
              "    </tr>\n",
              "    <tr>\n",
              "      <th>160412</th>\n",
              "      <td>{15131, 15148, 15091, 15864, 15163, 15135}</td>\n",
              "      <td>{15133}</td>\n",
              "      <td>1.0</td>\n",
              "    </tr>\n",
              "    <tr>\n",
              "      <th>160413</th>\n",
              "      <td>{15131, 15091, 15864, 15163, 15133, 15135}</td>\n",
              "      <td>{15148}</td>\n",
              "      <td>1.0</td>\n",
              "    </tr>\n",
              "    <tr>\n",
              "      <th>160460</th>\n",
              "      <td>{15131, 15148, 15864, 15163, 15135}</td>\n",
              "      <td>{15133}</td>\n",
              "      <td>1.0</td>\n",
              "    </tr>\n",
              "    <tr>\n",
              "      <th>160461</th>\n",
              "      <td>{15131, 15864, 15163, 15133, 15135}</td>\n",
              "      <td>{15148}</td>\n",
              "      <td>1.0</td>\n",
              "    </tr>\n",
              "    <tr>\n",
              "      <th>11483</th>\n",
              "      <td>{15131, 15155, 15148, 15149}</td>\n",
              "      <td>{15133}</td>\n",
              "      <td>1.0</td>\n",
              "    </tr>\n",
              "    <tr>\n",
              "      <th>332212</th>\n",
              "      <td>{6241, 15133, 3829, 14745, 6237}</td>\n",
              "      <td>{15091}</td>\n",
              "      <td>1.0</td>\n",
              "    </tr>\n",
              "    <tr>\n",
              "      <th>63351</th>\n",
              "      <td>{15136, 14745, 15130, 15135}</td>\n",
              "      <td>{15133}</td>\n",
              "      <td>1.0</td>\n",
              "    </tr>\n",
              "  </tbody>\n",
              "</table>\n",
              "</div>\n",
              "      <button class=\"colab-df-convert\" onclick=\"convertToInteractive('df-538a5a8e-8ace-4145-b537-77ac6cbf3ba3')\"\n",
              "              title=\"Convert this dataframe to an interactive table.\"\n",
              "              style=\"display:none;\">\n",
              "        \n",
              "  <svg xmlns=\"http://www.w3.org/2000/svg\" height=\"24px\"viewBox=\"0 0 24 24\"\n",
              "       width=\"24px\">\n",
              "    <path d=\"M0 0h24v24H0V0z\" fill=\"none\"/>\n",
              "    <path d=\"M18.56 5.44l.94 2.06.94-2.06 2.06-.94-2.06-.94-.94-2.06-.94 2.06-2.06.94zm-11 1L8.5 8.5l.94-2.06 2.06-.94-2.06-.94L8.5 2.5l-.94 2.06-2.06.94zm10 10l.94 2.06.94-2.06 2.06-.94-2.06-.94-.94-2.06-.94 2.06-2.06.94z\"/><path d=\"M17.41 7.96l-1.37-1.37c-.4-.4-.92-.59-1.43-.59-.52 0-1.04.2-1.43.59L10.3 9.45l-7.72 7.72c-.78.78-.78 2.05 0 2.83L4 21.41c.39.39.9.59 1.41.59.51 0 1.02-.2 1.41-.59l7.78-7.78 2.81-2.81c.8-.78.8-2.07 0-2.86zM5.41 20L4 18.59l7.72-7.72 1.47 1.35L5.41 20z\"/>\n",
              "  </svg>\n",
              "      </button>\n",
              "      \n",
              "  <style>\n",
              "    .colab-df-container {\n",
              "      display:flex;\n",
              "      flex-wrap:wrap;\n",
              "      gap: 12px;\n",
              "    }\n",
              "\n",
              "    .colab-df-convert {\n",
              "      background-color: #E8F0FE;\n",
              "      border: none;\n",
              "      border-radius: 50%;\n",
              "      cursor: pointer;\n",
              "      display: none;\n",
              "      fill: #1967D2;\n",
              "      height: 32px;\n",
              "      padding: 0 0 0 0;\n",
              "      width: 32px;\n",
              "    }\n",
              "\n",
              "    .colab-df-convert:hover {\n",
              "      background-color: #E2EBFA;\n",
              "      box-shadow: 0px 1px 2px rgba(60, 64, 67, 0.3), 0px 1px 3px 1px rgba(60, 64, 67, 0.15);\n",
              "      fill: #174EA6;\n",
              "    }\n",
              "\n",
              "    [theme=dark] .colab-df-convert {\n",
              "      background-color: #3B4455;\n",
              "      fill: #D2E3FC;\n",
              "    }\n",
              "\n",
              "    [theme=dark] .colab-df-convert:hover {\n",
              "      background-color: #434B5C;\n",
              "      box-shadow: 0px 1px 3px 1px rgba(0, 0, 0, 0.15);\n",
              "      filter: drop-shadow(0px 1px 2px rgba(0, 0, 0, 0.3));\n",
              "      fill: #FFFFFF;\n",
              "    }\n",
              "  </style>\n",
              "\n",
              "      <script>\n",
              "        const buttonEl =\n",
              "          document.querySelector('#df-538a5a8e-8ace-4145-b537-77ac6cbf3ba3 button.colab-df-convert');\n",
              "        buttonEl.style.display =\n",
              "          google.colab.kernel.accessAllowed ? 'block' : 'none';\n",
              "\n",
              "        async function convertToInteractive(key) {\n",
              "          const element = document.querySelector('#df-538a5a8e-8ace-4145-b537-77ac6cbf3ba3');\n",
              "          const dataTable =\n",
              "            await google.colab.kernel.invokeFunction('convertToInteractive',\n",
              "                                                     [key], {});\n",
              "          if (!dataTable) return;\n",
              "\n",
              "          const docLinkHtml = 'Like what you see? Visit the ' +\n",
              "            '<a target=\"_blank\" href=https://colab.research.google.com/notebooks/data_table.ipynb>data table notebook</a>'\n",
              "            + ' to learn more about interactive tables.';\n",
              "          element.innerHTML = '';\n",
              "          dataTable['output_type'] = 'display_data';\n",
              "          await google.colab.output.renderOutput(dataTable, element);\n",
              "          const docLink = document.createElement('div');\n",
              "          docLink.innerHTML = docLinkHtml;\n",
              "          element.appendChild(docLink);\n",
              "        }\n",
              "      </script>\n",
              "    </div>\n",
              "  </div>\n",
              "  "
            ],
            "text/plain": [
              "                                            basket next_product  proba\n",
              "274984                  {560, 15864, 15091, 15149}      {15133}    1.0\n",
              "160694  {15136, 15163, 15148, 15091, 15864, 15131}      {15133}    1.0\n",
              "63426          {15136, 15091, 14745, 15130, 15135}      {15133}    1.0\n",
              "160412  {15131, 15148, 15091, 15864, 15163, 15135}      {15133}    1.0\n",
              "160413  {15131, 15091, 15864, 15163, 15133, 15135}      {15148}    1.0\n",
              "160460         {15131, 15148, 15864, 15163, 15135}      {15133}    1.0\n",
              "160461         {15131, 15864, 15163, 15133, 15135}      {15148}    1.0\n",
              "11483                 {15131, 15155, 15148, 15149}      {15133}    1.0\n",
              "332212            {6241, 15133, 3829, 14745, 6237}      {15091}    1.0\n",
              "63351                 {15136, 14745, 15130, 15135}      {15133}    1.0"
            ]
          },
          "execution_count": 7,
          "metadata": {},
          "output_type": "execute_result"
        }
      ],
      "source": [
        "b=time.time()\n",
        "print('time to execute in seconds : ',b-a, ' s.')\n",
        "print('Number of rules generated : ', len(rules))\n",
        "\n",
        "association=pd.DataFrame(rules,columns =['basket','next_product','proba']) \n",
        "association=association.sort_values(by='proba',ascending=False)\n",
        "print('Dimensions of the association table are : ', association.shape)\n"
      ]
    },
    {
      "cell_type": "code",
      "execution_count": 8,
      "metadata": {
        "execution": {
          "iopub.execute_input": "2021-06-01T19:45:01.145162Z",
          "iopub.status.busy": "2021-06-01T19:45:01.1447Z",
          "iopub.status.idle": "2021-06-01T19:45:01.152611Z",
          "shell.execute_reply": "2021-06-01T19:45:01.15167Z",
          "shell.execute_reply.started": "2021-06-01T19:45:01.145124Z"
        },
        "id": "gDygKUVz1Z6k",
        "trusted": true
      },
      "outputs": [],
      "source": [
        "def compute_next_best_product(basket_el):\n",
        "    \"\"\"\n",
        "    parameter : basket_el = list of consumer basket elements\n",
        "    return : next_pdt, proba = next product to recommend, buying probability. Or (0,0) if no product is found. \n",
        "            \n",
        "    \n",
        "    Description : from the basket of a user, returns the product to recommend if it was not found \n",
        "    in the list of associations of the table associated with the FP Growth model. \n",
        "    To do this, we search in the table of associations for the product to recommend from each \n",
        "    individual product in the consumer's basket. \n",
        "    \n",
        "    \"\"\"\n",
        "    \n",
        "    for k in basket_el: # for each element in the consumer basket\n",
        "            k={k}\n",
        "            if len(association[association['basket']==k].values) !=0: # if we find a corresponding association in the fp growth table\n",
        "                next_pdt=list(association[association['basket']==k]['next_product'].values[0])[0] # we take the consequent product\n",
        "                if next_pdt not in basket_el : # We verify that the customer has not previously purchased the product\n",
        "                    proba=association[association['basket']==k]['proba'].values[0] # Find the associated probability. \n",
        "                    return(next_pdt,proba)\n",
        "    \n",
        "    return(0,0) # return (0,0) if no product was found. "
      ]
    },
    {
      "cell_type": "code",
      "execution_count": 9,
      "metadata": {
        "colab": {
          "base_uri": "https://localhost:8080/",
          "height": 455
        },
        "id": "1r0yMZySp3o4",
        "outputId": "b3a9d19b-5303-45c9-c208-47f32ed6ce08"
      },
      "outputs": [
        {
          "data": {
            "text/html": [
              "\n",
              "  <div id=\"df-1821fe99-5fb2-414c-85e4-bca36299fe75\">\n",
              "    <div class=\"colab-df-container\">\n",
              "      <div>\n",
              "<style scoped>\n",
              "    .dataframe tbody tr th:only-of-type {\n",
              "        vertical-align: middle;\n",
              "    }\n",
              "\n",
              "    .dataframe tbody tr th {\n",
              "        vertical-align: top;\n",
              "    }\n",
              "\n",
              "    .dataframe thead th {\n",
              "        text-align: right;\n",
              "    }\n",
              "</style>\n",
              "<table border=\"1\" class=\"dataframe\">\n",
              "  <thead>\n",
              "    <tr style=\"text-align: right;\">\n",
              "      <th></th>\n",
              "      <th>product_id</th>\n",
              "    </tr>\n",
              "    <tr>\n",
              "      <th>customer_id</th>\n",
              "      <th></th>\n",
              "    </tr>\n",
              "  </thead>\n",
              "  <tbody>\n",
              "    <tr>\n",
              "      <th>4.0</th>\n",
              "      <td>[6880, 6629, 6630, 15165, 588, 6061, 1981, 124...</td>\n",
              "    </tr>\n",
              "    <tr>\n",
              "      <th>9.0</th>\n",
              "      <td>[5410, 14083, 2627, 13733, 4901, 99, 10830, 10...</td>\n",
              "    </tr>\n",
              "    <tr>\n",
              "      <th>17.0</th>\n",
              "      <td>[11136, 13568, 6785, 21379, 2563, 17290, 6414,...</td>\n",
              "    </tr>\n",
              "    <tr>\n",
              "      <th>17167.0</th>\n",
              "      <td>[13829, 15367, 4109, 19473, 34, 5668, 39, 560,...</td>\n",
              "    </tr>\n",
              "    <tr>\n",
              "      <th>25230.0</th>\n",
              "      <td>[834, 835, 10788, 3462, 583, 1065, 5099, 6513]</td>\n",
              "    </tr>\n",
              "    <tr>\n",
              "      <th>...</th>\n",
              "      <td>...</td>\n",
              "    </tr>\n",
              "    <tr>\n",
              "      <th>116174.0</th>\n",
              "      <td>[2144, 2400, 3427, 2011, 3526, 6507, 2572, 279...</td>\n",
              "    </tr>\n",
              "    <tr>\n",
              "      <th>116175.0</th>\n",
              "      <td>[610, 14819, 3687, 487, 5033, 4076, 784, 785, ...</td>\n",
              "    </tr>\n",
              "    <tr>\n",
              "      <th>116213.0</th>\n",
              "      <td>[5791, 16498, 726, 11863]</td>\n",
              "    </tr>\n",
              "    <tr>\n",
              "      <th>116250.0</th>\n",
              "      <td>[16671]</td>\n",
              "    </tr>\n",
              "    <tr>\n",
              "      <th>116302.0</th>\n",
              "      <td>[7056, 12561, 15131, 15132, 15135, 5792, 15137...</td>\n",
              "    </tr>\n",
              "  </tbody>\n",
              "</table>\n",
              "<p>1931 rows × 1 columns</p>\n",
              "</div>\n",
              "      <button class=\"colab-df-convert\" onclick=\"convertToInteractive('df-1821fe99-5fb2-414c-85e4-bca36299fe75')\"\n",
              "              title=\"Convert this dataframe to an interactive table.\"\n",
              "              style=\"display:none;\">\n",
              "        \n",
              "  <svg xmlns=\"http://www.w3.org/2000/svg\" height=\"24px\"viewBox=\"0 0 24 24\"\n",
              "       width=\"24px\">\n",
              "    <path d=\"M0 0h24v24H0V0z\" fill=\"none\"/>\n",
              "    <path d=\"M18.56 5.44l.94 2.06.94-2.06 2.06-.94-2.06-.94-.94-2.06-.94 2.06-2.06.94zm-11 1L8.5 8.5l.94-2.06 2.06-.94-2.06-.94L8.5 2.5l-.94 2.06-2.06.94zm10 10l.94 2.06.94-2.06 2.06-.94-2.06-.94-.94-2.06-.94 2.06-2.06.94z\"/><path d=\"M17.41 7.96l-1.37-1.37c-.4-.4-.92-.59-1.43-.59-.52 0-1.04.2-1.43.59L10.3 9.45l-7.72 7.72c-.78.78-.78 2.05 0 2.83L4 21.41c.39.39.9.59 1.41.59.51 0 1.02-.2 1.41-.59l7.78-7.78 2.81-2.81c.8-.78.8-2.07 0-2.86zM5.41 20L4 18.59l7.72-7.72 1.47 1.35L5.41 20z\"/>\n",
              "  </svg>\n",
              "      </button>\n",
              "      \n",
              "  <style>\n",
              "    .colab-df-container {\n",
              "      display:flex;\n",
              "      flex-wrap:wrap;\n",
              "      gap: 12px;\n",
              "    }\n",
              "\n",
              "    .colab-df-convert {\n",
              "      background-color: #E8F0FE;\n",
              "      border: none;\n",
              "      border-radius: 50%;\n",
              "      cursor: pointer;\n",
              "      display: none;\n",
              "      fill: #1967D2;\n",
              "      height: 32px;\n",
              "      padding: 0 0 0 0;\n",
              "      width: 32px;\n",
              "    }\n",
              "\n",
              "    .colab-df-convert:hover {\n",
              "      background-color: #E2EBFA;\n",
              "      box-shadow: 0px 1px 2px rgba(60, 64, 67, 0.3), 0px 1px 3px 1px rgba(60, 64, 67, 0.15);\n",
              "      fill: #174EA6;\n",
              "    }\n",
              "\n",
              "    [theme=dark] .colab-df-convert {\n",
              "      background-color: #3B4455;\n",
              "      fill: #D2E3FC;\n",
              "    }\n",
              "\n",
              "    [theme=dark] .colab-df-convert:hover {\n",
              "      background-color: #434B5C;\n",
              "      box-shadow: 0px 1px 3px 1px rgba(0, 0, 0, 0.15);\n",
              "      filter: drop-shadow(0px 1px 2px rgba(0, 0, 0, 0.3));\n",
              "      fill: #FFFFFF;\n",
              "    }\n",
              "  </style>\n",
              "\n",
              "      <script>\n",
              "        const buttonEl =\n",
              "          document.querySelector('#df-1821fe99-5fb2-414c-85e4-bca36299fe75 button.colab-df-convert');\n",
              "        buttonEl.style.display =\n",
              "          google.colab.kernel.accessAllowed ? 'block' : 'none';\n",
              "\n",
              "        async function convertToInteractive(key) {\n",
              "          const element = document.querySelector('#df-1821fe99-5fb2-414c-85e4-bca36299fe75');\n",
              "          const dataTable =\n",
              "            await google.colab.kernel.invokeFunction('convertToInteractive',\n",
              "                                                     [key], {});\n",
              "          if (!dataTable) return;\n",
              "\n",
              "          const docLinkHtml = 'Like what you see? Visit the ' +\n",
              "            '<a target=\"_blank\" href=https://colab.research.google.com/notebooks/data_table.ipynb>data table notebook</a>'\n",
              "            + ' to learn more about interactive tables.';\n",
              "          element.innerHTML = '';\n",
              "          dataTable['output_type'] = 'display_data';\n",
              "          await google.colab.output.renderOutput(dataTable, element);\n",
              "          const docLink = document.createElement('div');\n",
              "          docLink.innerHTML = docLinkHtml;\n",
              "          element.appendChild(docLink);\n",
              "        }\n",
              "      </script>\n",
              "    </div>\n",
              "  </div>\n",
              "  "
            ],
            "text/plain": [
              "                                                    product_id\n",
              "customer_id                                                   \n",
              "4.0          [6880, 6629, 6630, 15165, 588, 6061, 1981, 124...\n",
              "9.0          [5410, 14083, 2627, 13733, 4901, 99, 10830, 10...\n",
              "17.0         [11136, 13568, 6785, 21379, 2563, 17290, 6414,...\n",
              "17167.0      [13829, 15367, 4109, 19473, 34, 5668, 39, 560,...\n",
              "25230.0         [834, 835, 10788, 3462, 583, 1065, 5099, 6513]\n",
              "...                                                        ...\n",
              "116174.0     [2144, 2400, 3427, 2011, 3526, 6507, 2572, 279...\n",
              "116175.0     [610, 14819, 3687, 487, 5033, 4076, 784, 785, ...\n",
              "116213.0                             [5791, 16498, 726, 11863]\n",
              "116250.0                                               [16671]\n",
              "116302.0     [7056, 12561, 15131, 15132, 15135, 5792, 15137...\n",
              "\n",
              "[1931 rows x 1 columns]"
            ]
          },
          "execution_count": 9,
          "metadata": {},
          "output_type": "execute_result"
        }
      ],
      "source": [
        "basket"
      ]
    },
    {
      "cell_type": "code",
      "execution_count": 10,
      "metadata": {
        "execution": {
          "iopub.execute_input": "2021-06-01T19:45:04.461523Z",
          "iopub.status.busy": "2021-06-01T19:45:04.460929Z",
          "iopub.status.idle": "2021-06-01T19:45:04.470002Z",
          "shell.execute_reply": "2021-06-01T19:45:04.469038Z",
          "shell.execute_reply.started": "2021-06-01T19:45:04.461484Z"
        },
        "id": "kEk38DhV1Z6l",
        "trusted": true
      },
      "outputs": [],
      "source": [
        "def find_next_product(basket):\n",
        "    \"\"\"\n",
        "    Parameter : basket = consumer basket dataframe\n",
        "    Return : list_next_pdt, list_proba = list of next elements to recommend and the buying probabilities associated.\n",
        "    \n",
        "    description : Main function that uses the one above. For each client in the dataset we look for a corresponding \n",
        "    association in the Fp Growth model table. If no association is found, we call the compute_next_best_product \n",
        "    function which searches for individual product associations.\n",
        "    If no individual ssociations are found, the function returns (0,0).\n",
        "    \n",
        "    \"\"\"\n",
        "    n=basket.shape[0]\n",
        "    list_next_pdt=[]\n",
        "    list_proba=[]\n",
        "    for i in range(n): # for each customer\n",
        "      el= set(basket['product_id'].iloc[i]) # customer's basket\n",
        "      if len(association[association['basket']==el].values) !=0: # if we find a association in the fp growth table corresponding to all the customer's basket.\n",
        "            next_pdt=list(association[association['basket']==el]['next_product'].values[0])[0] # We take the consequent product\n",
        "            proba=association[association['basket']==el]['proba'].values[0] # Probability associated in the table\n",
        "            list_next_pdt.append(next_pdt)\n",
        "            list_proba.append(proba)\n",
        "\n",
        "\n",
        "      elif len(association[association['basket']==el].values) ==0: # If no antecedent to all the basket was found in the table\n",
        "            next_pdt,proba= compute_next_best_product(basket['product_id'].iloc[i]) # previous function\n",
        "            list_next_pdt.append(next_pdt)\n",
        "            list_proba.append(proba)\n",
        "            \n",
        "    return(list_next_pdt, list_proba)\n"
      ]
    },
    {
      "cell_type": "code",
      "execution_count": 11,
      "metadata": {
        "colab": {
          "base_uri": "https://localhost:8080/"
        },
        "id": "TCNUecCmwEiZ",
        "outputId": "428a7035-22ee-46b7-a1c5-8682a1e806a8"
      },
      "outputs": [
        {
          "data": {
            "text/plain": [
              "product_id    [6880, 6629, 6630, 15165, 588, 6061, 1981, 124...\n",
              "Name: 4.0, dtype: object"
            ]
          },
          "execution_count": 11,
          "metadata": {},
          "output_type": "execute_result"
        }
      ],
      "source": [
        "basket.iloc[0]\n"
      ]
    },
    {
      "cell_type": "code",
      "execution_count": 12,
      "metadata": {
        "colab": {
          "base_uri": "https://localhost:8080/"
        },
        "id": "r6x0utG9q21m",
        "outputId": "f74c5334-fc60-42f8-ca25-f7fa0583b37f"
      },
      "outputs": [
        {
          "name": "stdout",
          "output_type": "stream",
          "text": [
            "Index(['product_id'], dtype='object')\n"
          ]
        }
      ],
      "source": [
        "print(basket.columns)\n"
      ]
    },
    {
      "cell_type": "markdown",
      "metadata": {
        "id": "C4TKwcgS1Z6l"
      },
      "source": [
        "# 5. Computation for each customer"
      ]
    },
    {
      "cell_type": "code",
      "execution_count": 13,
      "metadata": {
        "colab": {
          "base_uri": "https://localhost:8080/",
          "height": 255
        },
        "execution": {
          "iopub.execute_input": "2021-06-01T19:45:07.671165Z",
          "iopub.status.busy": "2021-06-01T19:45:07.670752Z",
          "iopub.status.idle": "2021-06-01T19:48:58.551431Z",
          "shell.execute_reply": "2021-06-01T19:48:58.550259Z",
          "shell.execute_reply.started": "2021-06-01T19:45:07.671131Z"
        },
        "id": "smtVdsK71Z6l",
        "outputId": "53cec081-667c-4f13-e486-395b22e9d967",
        "trusted": true
      },
      "outputs": [
        {
          "name": "stdout",
          "output_type": "stream",
          "text": [
            "1885.2636504173279\n"
          ]
        },
        {
          "data": {
            "text/html": [
              "\n",
              "  <div id=\"df-d8f82aea-96a7-4c71-8b35-6db51f0a09f7\">\n",
              "    <div class=\"colab-df-container\">\n",
              "      <div>\n",
              "<style scoped>\n",
              "    .dataframe tbody tr th:only-of-type {\n",
              "        vertical-align: middle;\n",
              "    }\n",
              "\n",
              "    .dataframe tbody tr th {\n",
              "        vertical-align: top;\n",
              "    }\n",
              "\n",
              "    .dataframe thead th {\n",
              "        text-align: right;\n",
              "    }\n",
              "</style>\n",
              "<table border=\"1\" class=\"dataframe\">\n",
              "  <thead>\n",
              "    <tr style=\"text-align: right;\">\n",
              "      <th></th>\n",
              "      <th>product_id</th>\n",
              "      <th>Recommended Product</th>\n",
              "      <th>Probability</th>\n",
              "    </tr>\n",
              "    <tr>\n",
              "      <th>customer_id</th>\n",
              "      <th></th>\n",
              "      <th></th>\n",
              "      <th></th>\n",
              "    </tr>\n",
              "  </thead>\n",
              "  <tbody>\n",
              "    <tr>\n",
              "      <th>4.0</th>\n",
              "      <td>[6880, 6629, 6630, 15165, 588, 6061, 1981, 124...</td>\n",
              "      <td>15091</td>\n",
              "      <td>0.625000</td>\n",
              "    </tr>\n",
              "    <tr>\n",
              "      <th>9.0</th>\n",
              "      <td>[5410, 14083, 2627, 13733, 4901, 99, 10830, 10...</td>\n",
              "      <td>11165</td>\n",
              "      <td>0.476190</td>\n",
              "    </tr>\n",
              "    <tr>\n",
              "      <th>17.0</th>\n",
              "      <td>[11136, 13568, 6785, 21379, 2563, 17290, 6414,...</td>\n",
              "      <td>609</td>\n",
              "      <td>0.393939</td>\n",
              "    </tr>\n",
              "    <tr>\n",
              "      <th>17167.0</th>\n",
              "      <td>[13829, 15367, 4109, 19473, 34, 5668, 39, 560,...</td>\n",
              "      <td>6237</td>\n",
              "      <td>0.562500</td>\n",
              "    </tr>\n",
              "    <tr>\n",
              "      <th>25230.0</th>\n",
              "      <td>[834, 835, 10788, 3462, 583, 1065, 5099, 6513]</td>\n",
              "      <td>11165</td>\n",
              "      <td>0.431373</td>\n",
              "    </tr>\n",
              "  </tbody>\n",
              "</table>\n",
              "</div>\n",
              "      <button class=\"colab-df-convert\" onclick=\"convertToInteractive('df-d8f82aea-96a7-4c71-8b35-6db51f0a09f7')\"\n",
              "              title=\"Convert this dataframe to an interactive table.\"\n",
              "              style=\"display:none;\">\n",
              "        \n",
              "  <svg xmlns=\"http://www.w3.org/2000/svg\" height=\"24px\"viewBox=\"0 0 24 24\"\n",
              "       width=\"24px\">\n",
              "    <path d=\"M0 0h24v24H0V0z\" fill=\"none\"/>\n",
              "    <path d=\"M18.56 5.44l.94 2.06.94-2.06 2.06-.94-2.06-.94-.94-2.06-.94 2.06-2.06.94zm-11 1L8.5 8.5l.94-2.06 2.06-.94-2.06-.94L8.5 2.5l-.94 2.06-2.06.94zm10 10l.94 2.06.94-2.06 2.06-.94-2.06-.94-.94-2.06-.94 2.06-2.06.94z\"/><path d=\"M17.41 7.96l-1.37-1.37c-.4-.4-.92-.59-1.43-.59-.52 0-1.04.2-1.43.59L10.3 9.45l-7.72 7.72c-.78.78-.78 2.05 0 2.83L4 21.41c.39.39.9.59 1.41.59.51 0 1.02-.2 1.41-.59l7.78-7.78 2.81-2.81c.8-.78.8-2.07 0-2.86zM5.41 20L4 18.59l7.72-7.72 1.47 1.35L5.41 20z\"/>\n",
              "  </svg>\n",
              "      </button>\n",
              "      \n",
              "  <style>\n",
              "    .colab-df-container {\n",
              "      display:flex;\n",
              "      flex-wrap:wrap;\n",
              "      gap: 12px;\n",
              "    }\n",
              "\n",
              "    .colab-df-convert {\n",
              "      background-color: #E8F0FE;\n",
              "      border: none;\n",
              "      border-radius: 50%;\n",
              "      cursor: pointer;\n",
              "      display: none;\n",
              "      fill: #1967D2;\n",
              "      height: 32px;\n",
              "      padding: 0 0 0 0;\n",
              "      width: 32px;\n",
              "    }\n",
              "\n",
              "    .colab-df-convert:hover {\n",
              "      background-color: #E2EBFA;\n",
              "      box-shadow: 0px 1px 2px rgba(60, 64, 67, 0.3), 0px 1px 3px 1px rgba(60, 64, 67, 0.15);\n",
              "      fill: #174EA6;\n",
              "    }\n",
              "\n",
              "    [theme=dark] .colab-df-convert {\n",
              "      background-color: #3B4455;\n",
              "      fill: #D2E3FC;\n",
              "    }\n",
              "\n",
              "    [theme=dark] .colab-df-convert:hover {\n",
              "      background-color: #434B5C;\n",
              "      box-shadow: 0px 1px 3px 1px rgba(0, 0, 0, 0.15);\n",
              "      filter: drop-shadow(0px 1px 2px rgba(0, 0, 0, 0.3));\n",
              "      fill: #FFFFFF;\n",
              "    }\n",
              "  </style>\n",
              "\n",
              "      <script>\n",
              "        const buttonEl =\n",
              "          document.querySelector('#df-d8f82aea-96a7-4c71-8b35-6db51f0a09f7 button.colab-df-convert');\n",
              "        buttonEl.style.display =\n",
              "          google.colab.kernel.accessAllowed ? 'block' : 'none';\n",
              "\n",
              "        async function convertToInteractive(key) {\n",
              "          const element = document.querySelector('#df-d8f82aea-96a7-4c71-8b35-6db51f0a09f7');\n",
              "          const dataTable =\n",
              "            await google.colab.kernel.invokeFunction('convertToInteractive',\n",
              "                                                     [key], {});\n",
              "          if (!dataTable) return;\n",
              "\n",
              "          const docLinkHtml = 'Like what you see? Visit the ' +\n",
              "            '<a target=\"_blank\" href=https://colab.research.google.com/notebooks/data_table.ipynb>data table notebook</a>'\n",
              "            + ' to learn more about interactive tables.';\n",
              "          element.innerHTML = '';\n",
              "          dataTable['output_type'] = 'display_data';\n",
              "          await google.colab.output.renderOutput(dataTable, element);\n",
              "          const docLink = document.createElement('div');\n",
              "          docLink.innerHTML = docLinkHtml;\n",
              "          element.appendChild(docLink);\n",
              "        }\n",
              "      </script>\n",
              "    </div>\n",
              "  </div>\n",
              "  "
            ],
            "text/plain": [
              "                                                    product_id  \\\n",
              "customer_id                                                      \n",
              "4.0          [6880, 6629, 6630, 15165, 588, 6061, 1981, 124...   \n",
              "9.0          [5410, 14083, 2627, 13733, 4901, 99, 10830, 10...   \n",
              "17.0         [11136, 13568, 6785, 21379, 2563, 17290, 6414,...   \n",
              "17167.0      [13829, 15367, 4109, 19473, 34, 5668, 39, 560,...   \n",
              "25230.0         [834, 835, 10788, 3462, 583, 1065, 5099, 6513]   \n",
              "\n",
              "             Recommended Product  Probability  \n",
              "customer_id                                    \n",
              "4.0                        15091     0.625000  \n",
              "9.0                        11165     0.476190  \n",
              "17.0                         609     0.393939  \n",
              "17167.0                     6237     0.562500  \n",
              "25230.0                    11165     0.431373  "
            ]
          },
          "execution_count": 13,
          "metadata": {},
          "output_type": "execute_result"
        }
      ],
      "source": [
        "a=time.time()\n",
        "list_next_pdt, list_proba= find_next_product(basket) \n",
        "b=time.time()\n",
        "print(b-a)\n",
        "basket['Recommended Product']=list_next_pdt # Set of recommended products\n",
        "basket['Probability']=list_proba # Set of rprobabilities associated\n",
        "basket.head()"
      ]
    },
    {
      "cell_type": "markdown",
      "metadata": {
        "id": "kmK8rxw_1Z6l"
      },
      "source": [
        "* #### Calculation of estimated prices from the recommendations made and display of the final table with the association (customer, product recommended)"
      ]
    },
    {
      "cell_type": "code",
      "execution_count": 14,
      "metadata": {
        "colab": {
          "base_uri": "https://localhost:8080/",
          "height": 238
        },
        "execution": {
          "iopub.execute_input": "2021-06-01T19:56:27.32235Z",
          "iopub.status.busy": "2021-06-01T19:56:27.321984Z",
          "iopub.status.idle": "2021-06-01T19:57:05.377814Z",
          "shell.execute_reply": "2021-06-01T19:57:05.37645Z",
          "shell.execute_reply.started": "2021-06-01T19:56:27.322319Z"
        },
        "id": "oK7E49iN1Z6l",
        "outputId": "a20ea5d6-c4e1-4ca6-a9bf-1171f1f25f13",
        "trusted": true
      },
      "outputs": [
        {
          "data": {
            "text/html": [
              "\n",
              "  <div id=\"df-ab37aeb2-7bcc-4e1c-90d0-275732e11e56\">\n",
              "    <div class=\"colab-df-container\">\n",
              "      <div>\n",
              "<style scoped>\n",
              "    .dataframe tbody tr th:only-of-type {\n",
              "        vertical-align: middle;\n",
              "    }\n",
              "\n",
              "    .dataframe tbody tr th {\n",
              "        vertical-align: top;\n",
              "    }\n",
              "\n",
              "    .dataframe thead th {\n",
              "        text-align: right;\n",
              "    }\n",
              "</style>\n",
              "<table border=\"1\" class=\"dataframe\">\n",
              "  <thead>\n",
              "    <tr style=\"text-align: right;\">\n",
              "      <th></th>\n",
              "      <th>Customer basket</th>\n",
              "      <th>Recommended Product</th>\n",
              "      <th>Product description</th>\n",
              "      <th>Probability</th>\n",
              "      <th>Price estimation</th>\n",
              "    </tr>\n",
              "    <tr>\n",
              "      <th>customer_id</th>\n",
              "      <th></th>\n",
              "      <th></th>\n",
              "      <th></th>\n",
              "      <th></th>\n",
              "      <th></th>\n",
              "    </tr>\n",
              "  </thead>\n",
              "  <tbody>\n",
              "    <tr>\n",
              "      <th>4.0</th>\n",
              "      <td>[6880, 6629, 6630, 15165, 588, 6061, 1981, 124...</td>\n",
              "      <td>15091</td>\n",
              "      <td>Pomme de terre</td>\n",
              "      <td>0.625000</td>\n",
              "      <td>1.150000</td>\n",
              "    </tr>\n",
              "    <tr>\n",
              "      <th>9.0</th>\n",
              "      <td>[5410, 14083, 2627, 13733, 4901, 99, 10830, 10...</td>\n",
              "      <td>11165</td>\n",
              "      <td>Lait demi-écrémé U.H.T</td>\n",
              "      <td>0.476190</td>\n",
              "      <td>0.642857</td>\n",
              "    </tr>\n",
              "    <tr>\n",
              "      <th>17.0</th>\n",
              "      <td>[11136, 13568, 6785, 21379, 2563, 17290, 6414,...</td>\n",
              "      <td>609</td>\n",
              "      <td>Eau minérale SABRINE 1.5L</td>\n",
              "      <td>0.393939</td>\n",
              "      <td>0.248182</td>\n",
              "    </tr>\n",
              "    <tr>\n",
              "      <th>17167.0</th>\n",
              "      <td>[13829, 15367, 4109, 19473, 34, 5668, 39, 560,...</td>\n",
              "      <td>6237</td>\n",
              "      <td>Beurre extra fin</td>\n",
              "      <td>0.562500</td>\n",
              "      <td>3.256875</td>\n",
              "    </tr>\n",
              "    <tr>\n",
              "      <th>25230.0</th>\n",
              "      <td>[834, 835, 10788, 3462, 583, 1065, 5099, 6513]</td>\n",
              "      <td>11165</td>\n",
              "      <td>Lait demi-écrémé U.H.T</td>\n",
              "      <td>0.431373</td>\n",
              "      <td>0.582353</td>\n",
              "    </tr>\n",
              "  </tbody>\n",
              "</table>\n",
              "</div>\n",
              "      <button class=\"colab-df-convert\" onclick=\"convertToInteractive('df-ab37aeb2-7bcc-4e1c-90d0-275732e11e56')\"\n",
              "              title=\"Convert this dataframe to an interactive table.\"\n",
              "              style=\"display:none;\">\n",
              "        \n",
              "  <svg xmlns=\"http://www.w3.org/2000/svg\" height=\"24px\"viewBox=\"0 0 24 24\"\n",
              "       width=\"24px\">\n",
              "    <path d=\"M0 0h24v24H0V0z\" fill=\"none\"/>\n",
              "    <path d=\"M18.56 5.44l.94 2.06.94-2.06 2.06-.94-2.06-.94-.94-2.06-.94 2.06-2.06.94zm-11 1L8.5 8.5l.94-2.06 2.06-.94-2.06-.94L8.5 2.5l-.94 2.06-2.06.94zm10 10l.94 2.06.94-2.06 2.06-.94-2.06-.94-.94-2.06-.94 2.06-2.06.94z\"/><path d=\"M17.41 7.96l-1.37-1.37c-.4-.4-.92-.59-1.43-.59-.52 0-1.04.2-1.43.59L10.3 9.45l-7.72 7.72c-.78.78-.78 2.05 0 2.83L4 21.41c.39.39.9.59 1.41.59.51 0 1.02-.2 1.41-.59l7.78-7.78 2.81-2.81c.8-.78.8-2.07 0-2.86zM5.41 20L4 18.59l7.72-7.72 1.47 1.35L5.41 20z\"/>\n",
              "  </svg>\n",
              "      </button>\n",
              "      \n",
              "  <style>\n",
              "    .colab-df-container {\n",
              "      display:flex;\n",
              "      flex-wrap:wrap;\n",
              "      gap: 12px;\n",
              "    }\n",
              "\n",
              "    .colab-df-convert {\n",
              "      background-color: #E8F0FE;\n",
              "      border: none;\n",
              "      border-radius: 50%;\n",
              "      cursor: pointer;\n",
              "      display: none;\n",
              "      fill: #1967D2;\n",
              "      height: 32px;\n",
              "      padding: 0 0 0 0;\n",
              "      width: 32px;\n",
              "    }\n",
              "\n",
              "    .colab-df-convert:hover {\n",
              "      background-color: #E2EBFA;\n",
              "      box-shadow: 0px 1px 2px rgba(60, 64, 67, 0.3), 0px 1px 3px 1px rgba(60, 64, 67, 0.15);\n",
              "      fill: #174EA6;\n",
              "    }\n",
              "\n",
              "    [theme=dark] .colab-df-convert {\n",
              "      background-color: #3B4455;\n",
              "      fill: #D2E3FC;\n",
              "    }\n",
              "\n",
              "    [theme=dark] .colab-df-convert:hover {\n",
              "      background-color: #434B5C;\n",
              "      box-shadow: 0px 1px 3px 1px rgba(0, 0, 0, 0.15);\n",
              "      filter: drop-shadow(0px 1px 2px rgba(0, 0, 0, 0.3));\n",
              "      fill: #FFFFFF;\n",
              "    }\n",
              "  </style>\n",
              "\n",
              "      <script>\n",
              "        const buttonEl =\n",
              "          document.querySelector('#df-ab37aeb2-7bcc-4e1c-90d0-275732e11e56 button.colab-df-convert');\n",
              "        buttonEl.style.display =\n",
              "          google.colab.kernel.accessAllowed ? 'block' : 'none';\n",
              "\n",
              "        async function convertToInteractive(key) {\n",
              "          const element = document.querySelector('#df-ab37aeb2-7bcc-4e1c-90d0-275732e11e56');\n",
              "          const dataTable =\n",
              "            await google.colab.kernel.invokeFunction('convertToInteractive',\n",
              "                                                     [key], {});\n",
              "          if (!dataTable) return;\n",
              "\n",
              "          const docLinkHtml = 'Like what you see? Visit the ' +\n",
              "            '<a target=\"_blank\" href=https://colab.research.google.com/notebooks/data_table.ipynb>data table notebook</a>'\n",
              "            + ' to learn more about interactive tables.';\n",
              "          element.innerHTML = '';\n",
              "          dataTable['output_type'] = 'display_data';\n",
              "          await google.colab.output.renderOutput(dataTable, element);\n",
              "          const docLink = document.createElement('div');\n",
              "          docLink.innerHTML = docLinkHtml;\n",
              "          element.appendChild(docLink);\n",
              "        }\n",
              "      </script>\n",
              "    </div>\n",
              "  </div>\n",
              "  "
            ],
            "text/plain": [
              "                                               Customer basket  \\\n",
              "customer_id                                                      \n",
              "4.0          [6880, 6629, 6630, 15165, 588, 6061, 1981, 124...   \n",
              "9.0          [5410, 14083, 2627, 13733, 4901, 99, 10830, 10...   \n",
              "17.0         [11136, 13568, 6785, 21379, 2563, 17290, 6414,...   \n",
              "17167.0      [13829, 15367, 4109, 19473, 34, 5668, 39, 560,...   \n",
              "25230.0         [834, 835, 10788, 3462, 583, 1065, 5099, 6513]   \n",
              "\n",
              "             Recommended Product        Product description  Probability  \\\n",
              "customer_id                                                                \n",
              "4.0                        15091             Pomme de terre     0.625000   \n",
              "9.0                        11165    Lait demi-écrémé U.H.T      0.476190   \n",
              "17.0                         609  Eau minérale SABRINE 1.5L     0.393939   \n",
              "17167.0                     6237          Beurre extra fin      0.562500   \n",
              "25230.0                    11165    Lait demi-écrémé U.H.T      0.431373   \n",
              "\n",
              "             Price estimation  \n",
              "customer_id                    \n",
              "4.0                  1.150000  \n",
              "9.0                  0.642857  \n",
              "17.0                 0.248182  \n",
              "17167.0              3.256875  \n",
              "25230.0              0.582353  "
            ]
          },
          "execution_count": 14,
          "metadata": {},
          "output_type": "execute_result"
        }
      ],
      "source": [
        "basket=basket.rename(columns = {'product_id': 'Customer basket'})\n",
        "data_stock=data.drop_duplicates(subset =\"product_id\", inplace = False)\n",
        "prices=[]\n",
        "description_list=[]\n",
        "for i in range(basket.shape[0]):\n",
        "    stockcode=basket['Recommended Product'].iloc[i]\n",
        "    probability= basket['Probability'].iloc[i]\n",
        "    if stockcode != 0:\n",
        "        unitprice=data_stock[data_stock['product_id']==stockcode]['price'].values[0]\n",
        "        description=data_stock[data_stock['product_id']==stockcode]['TITRE_PRODUIT'].values[0]\n",
        "        estim_price=unitprice*probability\n",
        "        prices.append(estim_price)\n",
        "        description_list.append(description)\n",
        "        \n",
        "    else :\n",
        "        prices.append(0)\n",
        "        description_list.append('Null')\n",
        "\n",
        "    \n",
        "\n",
        "basket['Price estimation']=prices \n",
        "basket['Product description']=description_list \n",
        "basket = basket.reindex(columns=['Customer basket','Recommended Product','Product description','Probability','Price estimation'])\n",
        "basket.head()"
      ]
    },
    {
      "cell_type": "markdown",
      "metadata": {
        "id": "WfR8wtfU1Z6m"
      },
      "source": [
        "# 6. Results"
      ]
    },
    {
      "cell_type": "markdown",
      "metadata": {
        "id": "zBFuoyQf1Z6m"
      },
      "source": [
        "#### Anticipation of customer needs :"
      ]
    },
    {
      "cell_type": "code",
      "execution_count": 15,
      "metadata": {
        "colab": {
          "base_uri": "https://localhost:8080/"
        },
        "execution": {
          "iopub.execute_input": "2021-06-01T19:58:20.104964Z",
          "iopub.status.busy": "2021-06-01T19:58:20.104224Z",
          "iopub.status.idle": "2021-06-01T19:58:20.114698Z",
          "shell.execute_reply": "2021-06-01T19:58:20.112774Z",
          "shell.execute_reply.started": "2021-06-01T19:58:20.104902Z"
        },
        "id": "OlJzZbc_1Z6m",
        "outputId": "100f2386-37e1-42af-dd70-b023d4bc2f78",
        "trusted": true
      },
      "outputs": [
        {
          "name": "stdout",
          "output_type": "stream",
          "text": [
            "On average, the recommendation system can predict in  41.06490835755882 % of the cases the next product that the customer will buy.\n"
          ]
        }
      ],
      "source": [
        "print('On average, the recommendation system can predict in ',basket['Probability'].mean() *100,  '% of the cases the next product that the customer will buy.')"
      ]
    },
    {
      "cell_type": "markdown",
      "metadata": {
        "id": "u7XzlvkW1Z6m"
      },
      "source": [
        "#### Turnover generated :"
      ]
    },
    {
      "cell_type": "code",
      "execution_count": 16,
      "metadata": {
        "colab": {
          "base_uri": "https://localhost:8080/"
        },
        "execution": {
          "iopub.execute_input": "2021-06-01T19:58:50.297914Z",
          "iopub.status.busy": "2021-06-01T19:58:50.297512Z",
          "iopub.status.idle": "2021-06-01T19:58:50.305308Z",
          "shell.execute_reply": "2021-06-01T19:58:50.304079Z",
          "shell.execute_reply.started": "2021-06-01T19:58:50.29788Z"
        },
        "id": "OgKpU1j21Z6m",
        "outputId": "91923915-d185-4c14-ece2-6a7641c52035",
        "trusted": true
      },
      "outputs": [
        {
          "name": "stdout",
          "output_type": "stream",
          "text": [
            "With only 1 single product proposed, the recommendation system can generate a turnover in this case up to :  1799  euros.\n"
          ]
        }
      ],
      "source": [
        "print('With only 1 single product proposed, the recommendation system can generate a turnover in this case up to : ', round(basket['Price estimation'].sum()), ' euros.') "
      ]
    },
    {
      "cell_type": "code",
      "execution_count": 18,
      "metadata": {
        "id": "zRqWm6is52Aw"
      },
      "outputs": [],
      "source": [
        "#basket.to_csv('recommendation.csv')"
      ]
    },
    {
      "cell_type": "markdown",
      "metadata": {
        "id": "iUjuxRVW1Z6m"
      },
      "source": [
        "# 7. Conclusion "
      ]
    },
    {
      "cell_type": "markdown",
      "metadata": {
        "id": "0kGfBrCr1Z6m"
      },
      "source": [
        "Among a product catalog of more than 1931 items, a simple model based on association rules can predict in **41%** of the cases the next product that the customer will buy and thus generate significant additional revenue. \n",
        "\n",
        "The advantage of this model is that it offers very good accuracy while being both easy to implement and explainable. Indeed, unlike some other artificial intelligence models that can seem like \"black boxes\" because they are difficult to explain, the results of the Fp Growth model are understandable because you will find all the rules specific to your business. For example, if you know that most of the time your customers buy product A and product B together, you will see it immediately in your association table ! \n"
      ]
    }
  ],
  "metadata": {
    "accelerator": "GPU",
    "colab": {
      "provenance": []
    },
    "gpuClass": "standard",
    "kernelspec": {
      "display_name": "Python 3",
      "language": "python",
      "name": "python3"
    },
    "language_info": {
      "codemirror_mode": {
        "name": "ipython",
        "version": 3
      },
      "file_extension": ".py",
      "mimetype": "text/x-python",
      "name": "python",
      "nbconvert_exporter": "python",
      "pygments_lexer": "ipython3",
      "version": "3.7.10"
    }
  },
  "nbformat": 4,
  "nbformat_minor": 0
}
