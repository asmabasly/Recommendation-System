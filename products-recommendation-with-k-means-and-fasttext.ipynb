{
 "cells": [
  {
   "cell_type": "markdown",
   "metadata": {},
   "source": [
    "## Product Recommendation system using K-means and Fasttext embedding"
   ]
  },
  {
   "cell_type": "code",
   "execution_count": 32,
   "metadata": {},
   "outputs": [
    {
     "name": "stdout",
     "output_type": "stream",
     "text": [
      "Requirement already satisfied: pandas in c:\\users\\tifa\\anaconda3\\envs\\env\\lib\\site-packages (2.0.1)\n",
      "Requirement already satisfied: tzdata>=2022.1 in c:\\users\\tifa\\anaconda3\\envs\\env\\lib\\site-packages (from pandas) (2023.3)\n",
      "Requirement already satisfied: numpy>=1.21.0 in c:\\users\\tifa\\anaconda3\\envs\\env\\lib\\site-packages (from pandas) (1.24.3)\n",
      "Requirement already satisfied: python-dateutil>=2.8.2 in c:\\users\\tifa\\anaconda3\\envs\\env\\lib\\site-packages (from pandas) (2.8.2)\n",
      "Requirement already satisfied: pytz>=2020.1 in c:\\users\\tifa\\anaconda3\\envs\\env\\lib\\site-packages (from pandas) (2023.3)\n",
      "Requirement already satisfied: six>=1.5 in c:\\users\\tifa\\anaconda3\\envs\\env\\lib\\site-packages (from python-dateutil>=2.8.2->pandas) (1.16.0)\n"
     ]
    }
   ],
   "source": [
    "!pip install pandas"
   ]
  },
  {
   "cell_type": "code",
   "execution_count": 33,
   "metadata": {
    "execution": {
     "iopub.execute_input": "2023-05-03T14:18:30.349972Z",
     "iopub.status.busy": "2023-05-03T14:18:30.349607Z",
     "iopub.status.idle": "2023-05-03T14:18:30.355380Z",
     "shell.execute_reply": "2023-05-03T14:18:30.354309Z",
     "shell.execute_reply.started": "2023-05-03T14:18:30.349920Z"
    }
   },
   "outputs": [],
   "source": [
    "import pandas as pd\n",
    "import numpy as np\n",
    "import random\n",
    "import re"
   ]
  },
  {
   "cell_type": "code",
   "execution_count": 34,
   "metadata": {},
   "outputs": [
    {
     "name": "stdout",
     "output_type": "stream",
     "text": [
      "Collecting FastText\n",
      "  Using cached fasttext-0.9.2.tar.gz (68 kB)\n",
      "  Preparing metadata (setup.py): started\n",
      "  Preparing metadata (setup.py): finished with status 'done'\n",
      "Requirement already satisfied: pybind11>=2.2 in c:\\users\\tifa\\anaconda3\\envs\\env\\lib\\site-packages (from FastText) (2.10.4)\n",
      "Requirement already satisfied: setuptools>=0.7.0 in c:\\users\\tifa\\anaconda3\\envs\\env\\lib\\site-packages (from FastText) (65.6.3)\n",
      "Requirement already satisfied: numpy in c:\\users\\tifa\\anaconda3\\envs\\env\\lib\\site-packages (from FastText) (1.24.3)\n",
      "Building wheels for collected packages: FastText\n",
      "  Building wheel for FastText (setup.py): started\n",
      "  Building wheel for FastText (setup.py): finished with status 'error'\n",
      "  Running setup.py clean for FastText\n",
      "Failed to build FastText\n",
      "Installing collected packages: FastText\n",
      "  Running setup.py install for FastText: started\n",
      "  Running setup.py install for FastText: finished with status 'error'\n"
     ]
    },
    {
     "name": "stderr",
     "output_type": "stream",
     "text": [
      "  error: subprocess-exited-with-error\n",
      "  \n",
      "  × python setup.py bdist_wheel did not run successfully.\n",
      "  │ exit code: 1\n",
      "  ╰─> [20 lines of output]\n",
      "      C:\\Users\\Tifa\\anaconda3\\envs\\env\\lib\\site-packages\\setuptools\\dist.py:770: UserWarning: Usage of dash-separated 'description-file' will not be supported in future versions. Please use the underscore name 'description_file' instead\n",
      "        warnings.warn(\n",
      "      running bdist_wheel\n",
      "      running build\n",
      "      running build_py\n",
      "      creating build\n",
      "      creating build\\lib.win-amd64-cpython-310\n",
      "      creating build\\lib.win-amd64-cpython-310\\fasttext\n",
      "      copying python\\fasttext_module\\fasttext\\FastText.py -> build\\lib.win-amd64-cpython-310\\fasttext\n",
      "      copying python\\fasttext_module\\fasttext\\__init__.py -> build\\lib.win-amd64-cpython-310\\fasttext\n",
      "      creating build\\lib.win-amd64-cpython-310\\fasttext\\util\n",
      "      copying python\\fasttext_module\\fasttext\\util\\util.py -> build\\lib.win-amd64-cpython-310\\fasttext\\util\n",
      "      copying python\\fasttext_module\\fasttext\\util\\__init__.py -> build\\lib.win-amd64-cpython-310\\fasttext\\util\n",
      "      creating build\\lib.win-amd64-cpython-310\\fasttext\\tests\n",
      "      copying python\\fasttext_module\\fasttext\\tests\\test_configurations.py -> build\\lib.win-amd64-cpython-310\\fasttext\\tests\n",
      "      copying python\\fasttext_module\\fasttext\\tests\\test_script.py -> build\\lib.win-amd64-cpython-310\\fasttext\\tests\n",
      "      copying python\\fasttext_module\\fasttext\\tests\\__init__.py -> build\\lib.win-amd64-cpython-310\\fasttext\\tests\n",
      "      running build_ext\n",
      "      building 'fasttext_pybind' extension\n",
      "      error: Microsoft Visual C++ 14.0 or greater is required. Get it with \"Microsoft C++ Build Tools\": https://visualstudio.microsoft.com/visual-cpp-build-tools/\n",
      "      [end of output]\n",
      "  \n",
      "  note: This error originates from a subprocess, and is likely not a problem with pip.\n",
      "  ERROR: Failed building wheel for FastText\n",
      "  error: subprocess-exited-with-error\n",
      "  \n",
      "  × Running setup.py install for FastText did not run successfully.\n",
      "  │ exit code: 1\n",
      "  ╰─> [22 lines of output]\n",
      "      C:\\Users\\Tifa\\anaconda3\\envs\\env\\lib\\site-packages\\setuptools\\dist.py:770: UserWarning: Usage of dash-separated 'description-file' will not be supported in future versions. Please use the underscore name 'description_file' instead\n",
      "        warnings.warn(\n",
      "      running install\n",
      "      C:\\Users\\Tifa\\anaconda3\\envs\\env\\lib\\site-packages\\setuptools\\command\\install.py:34: SetuptoolsDeprecationWarning: setup.py install is deprecated. Use build and pip and other standards-based tools.\n",
      "        warnings.warn(\n",
      "      running build\n",
      "      running build_py\n",
      "      creating build\n",
      "      creating build\\lib.win-amd64-cpython-310\n",
      "      creating build\\lib.win-amd64-cpython-310\\fasttext\n",
      "      copying python\\fasttext_module\\fasttext\\FastText.py -> build\\lib.win-amd64-cpython-310\\fasttext\n",
      "      copying python\\fasttext_module\\fasttext\\__init__.py -> build\\lib.win-amd64-cpython-310\\fasttext\n",
      "      creating build\\lib.win-amd64-cpython-310\\fasttext\\util\n",
      "      copying python\\fasttext_module\\fasttext\\util\\util.py -> build\\lib.win-amd64-cpython-310\\fasttext\\util\n",
      "      copying python\\fasttext_module\\fasttext\\util\\__init__.py -> build\\lib.win-amd64-cpython-310\\fasttext\\util\n",
      "      creating build\\lib.win-amd64-cpython-310\\fasttext\\tests\n",
      "      copying python\\fasttext_module\\fasttext\\tests\\test_configurations.py -> build\\lib.win-amd64-cpython-310\\fasttext\\tests\n",
      "      copying python\\fasttext_module\\fasttext\\tests\\test_script.py -> build\\lib.win-amd64-cpython-310\\fasttext\\tests\n",
      "      copying python\\fasttext_module\\fasttext\\tests\\__init__.py -> build\\lib.win-amd64-cpython-310\\fasttext\\tests\n",
      "      running build_ext\n",
      "      building 'fasttext_pybind' extension\n",
      "      error: Microsoft Visual C++ 14.0 or greater is required. Get it with \"Microsoft C++ Build Tools\": https://visualstudio.microsoft.com/visual-cpp-build-tools/\n",
      "      [end of output]\n",
      "  \n",
      "  note: This error originates from a subprocess, and is likely not a problem with pip.\n",
      "error: legacy-install-failure\n",
      "\n",
      "× Encountered error while trying to install package.\n",
      "╰─> FastText\n",
      "\n",
      "note: This is an issue with the package mentioned above, not pip.\n",
      "hint: See above for output from the failure.\n"
     ]
    },
    {
     "name": "stdout",
     "output_type": "stream",
     "text": [
      "Requirement already satisfied: gensim in c:\\users\\tifa\\anaconda3\\envs\\env\\lib\\site-packages (4.3.1)\n",
      "Requirement already satisfied: smart-open>=1.8.1 in c:\\users\\tifa\\anaconda3\\envs\\env\\lib\\site-packages (from gensim) (6.3.0)\n",
      "Requirement already satisfied: numpy>=1.18.5 in c:\\users\\tifa\\anaconda3\\envs\\env\\lib\\site-packages (from gensim) (1.24.3)\n",
      "Requirement already satisfied: scipy>=1.7.0 in c:\\users\\tifa\\anaconda3\\envs\\env\\lib\\site-packages (from gensim) (1.10.1)\n"
     ]
    }
   ],
   "source": [
    "!pip install FastText\n",
    "!pip install gensim"
   ]
  },
  {
   "cell_type": "markdown",
   "metadata": {},
   "source": [
    "### 1.Preprocessing\n",
    "Select rows which is product type and nessecary columns<br/>\n",
    "Remove special character and transform to lower case"
   ]
  },
  {
   "cell_type": "code",
   "execution_count": 35,
   "metadata": {
    "execution": {
     "iopub.execute_input": "2023-05-03T14:18:30.357809Z",
     "iopub.status.busy": "2023-05-03T14:18:30.357185Z",
     "iopub.status.idle": "2023-05-03T14:18:30.410148Z",
     "shell.execute_reply": "2023-05-03T14:18:30.409353Z",
     "shell.execute_reply.started": "2023-05-03T14:18:30.357749Z"
    }
   },
   "outputs": [
    {
     "name": "stdout",
     "output_type": "stream",
     "text": [
      "(17109, 5)\n"
     ]
    },
    {
     "data": {
      "text/html": [
       "<div>\n",
       "<style scoped>\n",
       "    .dataframe tbody tr th:only-of-type {\n",
       "        vertical-align: middle;\n",
       "    }\n",
       "\n",
       "    .dataframe tbody tr th {\n",
       "        vertical-align: top;\n",
       "    }\n",
       "\n",
       "    .dataframe thead th {\n",
       "        text-align: right;\n",
       "    }\n",
       "</style>\n",
       "<table border=\"1\" class=\"dataframe\">\n",
       "  <thead>\n",
       "    <tr style=\"text-align: right;\">\n",
       "      <th></th>\n",
       "      <th>Unnamed: 0</th>\n",
       "      <th>product_id</th>\n",
       "      <th>TITRE_PRODUIT</th>\n",
       "      <th>TYPE_PRODUIT</th>\n",
       "      <th>name</th>\n",
       "    </tr>\n",
       "  </thead>\n",
       "  <tbody>\n",
       "    <tr>\n",
       "      <th>0</th>\n",
       "      <td>0</td>\n",
       "      <td>100</td>\n",
       "      <td>Lessive liquide fraîcheur intense</td>\n",
       "      <td>Lessive</td>\n",
       "      <td>Lessive liquide fraîcheur intense</td>\n",
       "    </tr>\n",
       "    <tr>\n",
       "      <th>1</th>\n",
       "      <td>1</td>\n",
       "      <td>1000</td>\n",
       "      <td>Roll'on Dry Comfort</td>\n",
       "      <td>Déodorants</td>\n",
       "      <td>Roll'on Dry Comfort</td>\n",
       "    </tr>\n",
       "    <tr>\n",
       "      <th>2</th>\n",
       "      <td>2</td>\n",
       "      <td>1001</td>\n",
       "      <td>Stick Fresh Active</td>\n",
       "      <td>Déodorants</td>\n",
       "      <td>Stick Fresh Active</td>\n",
       "    </tr>\n",
       "    <tr>\n",
       "      <th>3</th>\n",
       "      <td>3</td>\n",
       "      <td>1003</td>\n",
       "      <td>Parfum après rasage Original</td>\n",
       "      <td>Eau de toilette et parfum</td>\n",
       "      <td>Parfum après rasage Original</td>\n",
       "    </tr>\n",
       "    <tr>\n",
       "      <th>4</th>\n",
       "      <td>4</td>\n",
       "      <td>1004</td>\n",
       "      <td>Crème adhésive pour prothèses totales et parti...</td>\n",
       "      <td>Hygiène dentaire</td>\n",
       "      <td>Crème adhésive pour prothèses totales et parti...</td>\n",
       "    </tr>\n",
       "  </tbody>\n",
       "</table>\n",
       "</div>"
      ],
      "text/plain": [
       "   Unnamed: 0  product_id                                      TITRE_PRODUIT   \n",
       "0           0         100                  Lessive liquide fraîcheur intense  \\\n",
       "1           1        1000                                Roll'on Dry Comfort   \n",
       "2           2        1001                                 Stick Fresh Active   \n",
       "3           3        1003                     Parfum après rasage Original     \n",
       "4           4        1004  Crème adhésive pour prothèses totales et parti...   \n",
       "\n",
       "                TYPE_PRODUIT   \n",
       "0                    Lessive  \\\n",
       "1                 Déodorants   \n",
       "2                 Déodorants   \n",
       "3  Eau de toilette et parfum   \n",
       "4           Hygiène dentaire   \n",
       "\n",
       "                                                name  \n",
       "0                  Lessive liquide fraîcheur intense  \n",
       "1                                Roll'on Dry Comfort  \n",
       "2                                 Stick Fresh Active  \n",
       "3                     Parfum après rasage Original    \n",
       "4  Crème adhésive pour prothèses totales et parti...  "
      ]
     },
     "execution_count": 35,
     "metadata": {},
     "output_type": "execute_result"
    }
   ],
   "source": [
    "products = pd.read_csv(r\"C:\\Users\\Tifa\\Downloads\\archive/produit.csv\")\n",
    "print(products.shape)\n",
    "products.head()"
   ]
  },
  {
   "cell_type": "code",
   "execution_count": 36,
   "metadata": {
    "execution": {
     "iopub.execute_input": "2023-05-03T14:18:30.412389Z",
     "iopub.status.busy": "2023-05-03T14:18:30.412082Z",
     "iopub.status.idle": "2023-05-03T14:18:30.423732Z",
     "shell.execute_reply": "2023-05-03T14:18:30.422584Z",
     "shell.execute_reply.started": "2023-05-03T14:18:30.412359Z"
    }
   },
   "outputs": [],
   "source": [
    "products = products.rename(columns={'TITRE_PRODUIT': 'title'})\n",
    "products = products.rename(columns={'TYPE_PRODUIT': 'listed_in'})\n",
    "products = products.rename(columns={'name': 'description'})\n"
   ]
  },
  {
   "cell_type": "code",
   "execution_count": 37,
   "metadata": {
    "execution": {
     "iopub.execute_input": "2023-05-03T14:18:30.427515Z",
     "iopub.status.busy": "2023-05-03T14:18:30.427256Z",
     "iopub.status.idle": "2023-05-03T14:18:30.460579Z",
     "shell.execute_reply": "2023-05-03T14:18:30.459505Z",
     "shell.execute_reply.started": "2023-05-03T14:18:30.427489Z"
    }
   },
   "outputs": [
    {
     "data": {
      "text/html": [
       "<div>\n",
       "<style scoped>\n",
       "    .dataframe tbody tr th:only-of-type {\n",
       "        vertical-align: middle;\n",
       "    }\n",
       "\n",
       "    .dataframe tbody tr th {\n",
       "        vertical-align: top;\n",
       "    }\n",
       "\n",
       "    .dataframe thead th {\n",
       "        text-align: right;\n",
       "    }\n",
       "</style>\n",
       "<table border=\"1\" class=\"dataframe\">\n",
       "  <thead>\n",
       "    <tr style=\"text-align: right;\">\n",
       "      <th></th>\n",
       "      <th>Unnamed: 0</th>\n",
       "      <th>product_id</th>\n",
       "      <th>title</th>\n",
       "      <th>listed_in</th>\n",
       "      <th>description</th>\n",
       "    </tr>\n",
       "  </thead>\n",
       "  <tbody>\n",
       "    <tr>\n",
       "      <th>0</th>\n",
       "      <td>0</td>\n",
       "      <td>100</td>\n",
       "      <td>Lessive liquide fraîcheur intense</td>\n",
       "      <td>Lessive</td>\n",
       "      <td>Lessive liquide fraîcheur intense</td>\n",
       "    </tr>\n",
       "    <tr>\n",
       "      <th>1</th>\n",
       "      <td>1</td>\n",
       "      <td>1000</td>\n",
       "      <td>Roll'on Dry Comfort</td>\n",
       "      <td>Déodorants</td>\n",
       "      <td>Roll'on Dry Comfort</td>\n",
       "    </tr>\n",
       "    <tr>\n",
       "      <th>2</th>\n",
       "      <td>2</td>\n",
       "      <td>1001</td>\n",
       "      <td>Stick Fresh Active</td>\n",
       "      <td>Déodorants</td>\n",
       "      <td>Stick Fresh Active</td>\n",
       "    </tr>\n",
       "    <tr>\n",
       "      <th>3</th>\n",
       "      <td>3</td>\n",
       "      <td>1003</td>\n",
       "      <td>Parfum après rasage Original</td>\n",
       "      <td>Eau de toilette et parfum</td>\n",
       "      <td>Parfum après rasage Original</td>\n",
       "    </tr>\n",
       "    <tr>\n",
       "      <th>4</th>\n",
       "      <td>4</td>\n",
       "      <td>1004</td>\n",
       "      <td>Crème adhésive pour prothèses totales et parti...</td>\n",
       "      <td>Hygiène dentaire</td>\n",
       "      <td>Crème adhésive pour prothèses totales et parti...</td>\n",
       "    </tr>\n",
       "    <tr>\n",
       "      <th>...</th>\n",
       "      <td>...</td>\n",
       "      <td>...</td>\n",
       "      <td>...</td>\n",
       "      <td>...</td>\n",
       "      <td>...</td>\n",
       "    </tr>\n",
       "    <tr>\n",
       "      <th>17104</th>\n",
       "      <td>17104</td>\n",
       "      <td>994</td>\n",
       "      <td>Céréales infantiles blé &amp; lait</td>\n",
       "      <td>Céréales</td>\n",
       "      <td>Céréales infantiles blé &amp; lait</td>\n",
       "    </tr>\n",
       "    <tr>\n",
       "      <th>17105</th>\n",
       "      <td>17105</td>\n",
       "      <td>995</td>\n",
       "      <td>Céréales infantiles blé lait &amp; dattes</td>\n",
       "      <td>Céréales</td>\n",
       "      <td>Céréales infantiles blé lait &amp; dattes</td>\n",
       "    </tr>\n",
       "    <tr>\n",
       "      <th>17106</th>\n",
       "      <td>17106</td>\n",
       "      <td>996</td>\n",
       "      <td>Pommes chips au piment et citron</td>\n",
       "      <td>Chips</td>\n",
       "      <td>Pommes chips au piment et citron</td>\n",
       "    </tr>\n",
       "    <tr>\n",
       "      <th>17107</th>\n",
       "      <td>17107</td>\n",
       "      <td>997</td>\n",
       "      <td>Compote de carotte</td>\n",
       "      <td>Compote</td>\n",
       "      <td>Compote de carotte</td>\n",
       "    </tr>\n",
       "    <tr>\n",
       "      <th>17108</th>\n",
       "      <td>17108</td>\n",
       "      <td>998</td>\n",
       "      <td>Compote  de légumes</td>\n",
       "      <td>Compote</td>\n",
       "      <td>Compote  de légumes</td>\n",
       "    </tr>\n",
       "  </tbody>\n",
       "</table>\n",
       "<p>17109 rows × 5 columns</p>\n",
       "</div>"
      ],
      "text/plain": [
       "       Unnamed: 0  product_id   \n",
       "0               0         100  \\\n",
       "1               1        1000   \n",
       "2               2        1001   \n",
       "3               3        1003   \n",
       "4               4        1004   \n",
       "...           ...         ...   \n",
       "17104       17104         994   \n",
       "17105       17105         995   \n",
       "17106       17106         996   \n",
       "17107       17107         997   \n",
       "17108       17108         998   \n",
       "\n",
       "                                                   title   \n",
       "0                      Lessive liquide fraîcheur intense  \\\n",
       "1                                    Roll'on Dry Comfort   \n",
       "2                                     Stick Fresh Active   \n",
       "3                         Parfum après rasage Original     \n",
       "4      Crème adhésive pour prothèses totales et parti...   \n",
       "...                                                  ...   \n",
       "17104                   Céréales infantiles blé & lait     \n",
       "17105             Céréales infantiles blé lait & dattes    \n",
       "17106                 Pommes chips au piment et citron     \n",
       "17107                                 Compote de carotte   \n",
       "17108                             Compote  de légumes      \n",
       "\n",
       "                       listed_in   \n",
       "0                        Lessive  \\\n",
       "1                     Déodorants   \n",
       "2                     Déodorants   \n",
       "3      Eau de toilette et parfum   \n",
       "4               Hygiène dentaire   \n",
       "...                          ...   \n",
       "17104                   Céréales   \n",
       "17105                   Céréales   \n",
       "17106                      Chips   \n",
       "17107                    Compote   \n",
       "17108                    Compote   \n",
       "\n",
       "                                             description  \n",
       "0                      Lessive liquide fraîcheur intense  \n",
       "1                                    Roll'on Dry Comfort  \n",
       "2                                     Stick Fresh Active  \n",
       "3                         Parfum après rasage Original    \n",
       "4      Crème adhésive pour prothèses totales et parti...  \n",
       "...                                                  ...  \n",
       "17104                   Céréales infantiles blé & lait    \n",
       "17105             Céréales infantiles blé lait & dattes   \n",
       "17106                   Pommes chips au piment et citron  \n",
       "17107                                 Compote de carotte  \n",
       "17108                             Compote  de légumes     \n",
       "\n",
       "[17109 rows x 5 columns]"
      ]
     },
     "execution_count": 37,
     "metadata": {},
     "output_type": "execute_result"
    }
   ],
   "source": [
    "products=products.drop_duplicates()\n",
    "products"
   ]
  },
  {
   "cell_type": "code",
   "execution_count": 38,
   "metadata": {
    "execution": {
     "iopub.execute_input": "2023-05-03T14:18:30.462698Z",
     "iopub.status.busy": "2023-05-03T14:18:30.462342Z",
     "iopub.status.idle": "2023-05-03T14:18:30.474632Z",
     "shell.execute_reply": "2023-05-03T14:18:30.473527Z",
     "shell.execute_reply.started": "2023-05-03T14:18:30.462660Z"
    }
   },
   "outputs": [
    {
     "data": {
      "text/plain": [
       "Unnamed: 0     0\n",
       "product_id     0\n",
       "title          0\n",
       "listed_in      5\n",
       "description    0\n",
       "dtype: int64"
      ]
     },
     "execution_count": 38,
     "metadata": {},
     "output_type": "execute_result"
    }
   ],
   "source": [
    "products.isnull().sum()"
   ]
  },
  {
   "cell_type": "code",
   "execution_count": 39,
   "metadata": {
    "execution": {
     "iopub.execute_input": "2023-05-03T14:18:30.476935Z",
     "iopub.status.busy": "2023-05-03T14:18:30.476568Z",
     "iopub.status.idle": "2023-05-03T14:18:30.481932Z",
     "shell.execute_reply": "2023-05-03T14:18:30.480989Z",
     "shell.execute_reply.started": "2023-05-03T14:18:30.476898Z"
    }
   },
   "outputs": [],
   "source": [
    "def preprocessing(desc):\n",
    "    desc = desc.lower()\n",
    "    desc = re.sub('[-=+,#/\\?:^$.@*\\\"※~&%ㆍ!』\\\\‘|\\(\\)\\[\\]\\<\\>`\\'…》]', ' ', desc)\n",
    "    desc = \" \".join(desc.split())\n",
    "    \n",
    "    return desc"
   ]
  },
  {
   "cell_type": "code",
   "execution_count": 40,
   "metadata": {
    "execution": {
     "iopub.execute_input": "2023-05-03T14:18:30.484833Z",
     "iopub.status.busy": "2023-05-03T14:18:30.484166Z",
     "iopub.status.idle": "2023-05-03T14:18:30.546874Z",
     "shell.execute_reply": "2023-05-03T14:18:30.545846Z",
     "shell.execute_reply.started": "2023-05-03T14:18:30.484794Z"
    }
   },
   "outputs": [
    {
     "name": "stdout",
     "output_type": "stream",
     "text": [
      "(17109, 6)\n"
     ]
    },
    {
     "data": {
      "text/html": [
       "<div>\n",
       "<style scoped>\n",
       "    .dataframe tbody tr th:only-of-type {\n",
       "        vertical-align: middle;\n",
       "    }\n",
       "\n",
       "    .dataframe tbody tr th {\n",
       "        vertical-align: top;\n",
       "    }\n",
       "\n",
       "    .dataframe thead th {\n",
       "        text-align: right;\n",
       "    }\n",
       "</style>\n",
       "<table border=\"1\" class=\"dataframe\">\n",
       "  <thead>\n",
       "    <tr style=\"text-align: right;\">\n",
       "      <th></th>\n",
       "      <th>Unnamed: 0</th>\n",
       "      <th>product_id</th>\n",
       "      <th>title</th>\n",
       "      <th>listed_in</th>\n",
       "      <th>description</th>\n",
       "      <th>new_description</th>\n",
       "    </tr>\n",
       "  </thead>\n",
       "  <tbody>\n",
       "    <tr>\n",
       "      <th>0</th>\n",
       "      <td>0</td>\n",
       "      <td>100</td>\n",
       "      <td>Lessive liquide fraîcheur intense</td>\n",
       "      <td>Lessive</td>\n",
       "      <td>Lessive liquide fraîcheur intense</td>\n",
       "      <td>lessive liquide fraîcheur intense</td>\n",
       "    </tr>\n",
       "    <tr>\n",
       "      <th>1</th>\n",
       "      <td>1</td>\n",
       "      <td>1000</td>\n",
       "      <td>Roll'on Dry Comfort</td>\n",
       "      <td>Déodorants</td>\n",
       "      <td>Roll'on Dry Comfort</td>\n",
       "      <td>roll on dry comfort</td>\n",
       "    </tr>\n",
       "    <tr>\n",
       "      <th>2</th>\n",
       "      <td>2</td>\n",
       "      <td>1001</td>\n",
       "      <td>Stick Fresh Active</td>\n",
       "      <td>Déodorants</td>\n",
       "      <td>Stick Fresh Active</td>\n",
       "      <td>stick fresh active</td>\n",
       "    </tr>\n",
       "    <tr>\n",
       "      <th>3</th>\n",
       "      <td>3</td>\n",
       "      <td>1003</td>\n",
       "      <td>Parfum après rasage Original</td>\n",
       "      <td>Eau de toilette et parfum</td>\n",
       "      <td>Parfum après rasage Original</td>\n",
       "      <td>parfum après rasage original</td>\n",
       "    </tr>\n",
       "    <tr>\n",
       "      <th>4</th>\n",
       "      <td>4</td>\n",
       "      <td>1004</td>\n",
       "      <td>Crème adhésive pour prothèses totales et parti...</td>\n",
       "      <td>Hygiène dentaire</td>\n",
       "      <td>Crème adhésive pour prothèses totales et parti...</td>\n",
       "      <td>crème adhésive pour prothèses totales et parti...</td>\n",
       "    </tr>\n",
       "  </tbody>\n",
       "</table>\n",
       "</div>"
      ],
      "text/plain": [
       "   Unnamed: 0  product_id                                              title   \n",
       "0           0         100                  Lessive liquide fraîcheur intense  \\\n",
       "1           1        1000                                Roll'on Dry Comfort   \n",
       "2           2        1001                                 Stick Fresh Active   \n",
       "3           3        1003                     Parfum après rasage Original     \n",
       "4           4        1004  Crème adhésive pour prothèses totales et parti...   \n",
       "\n",
       "                   listed_in   \n",
       "0                    Lessive  \\\n",
       "1                 Déodorants   \n",
       "2                 Déodorants   \n",
       "3  Eau de toilette et parfum   \n",
       "4           Hygiène dentaire   \n",
       "\n",
       "                                         description   \n",
       "0                  Lessive liquide fraîcheur intense  \\\n",
       "1                                Roll'on Dry Comfort   \n",
       "2                                 Stick Fresh Active   \n",
       "3                     Parfum après rasage Original     \n",
       "4  Crème adhésive pour prothèses totales et parti...   \n",
       "\n",
       "                                     new_description  \n",
       "0                  lessive liquide fraîcheur intense  \n",
       "1                                roll on dry comfort  \n",
       "2                                 stick fresh active  \n",
       "3                       parfum après rasage original  \n",
       "4  crème adhésive pour prothèses totales et parti...  "
      ]
     },
     "execution_count": 40,
     "metadata": {},
     "output_type": "execute_result"
    }
   ],
   "source": [
    "products[\"new_description\"] = products[\"description\"].apply(lambda x: preprocessing(x))\n",
    "print(products.shape)\n",
    "products.head()"
   ]
  },
  {
   "cell_type": "code",
   "execution_count": 41,
   "metadata": {},
   "outputs": [
    {
     "name": "stdout",
     "output_type": "stream",
     "text": [
      "^C\n"
     ]
    }
   ],
   "source": [
    "\n",
    "!pip uninstall numpy\n"
   ]
  },
  {
   "cell_type": "code",
   "execution_count": null,
   "metadata": {},
   "outputs": [
    {
     "name": "stdout",
     "output_type": "stream",
     "text": [
      "Requirement already satisfied: numpy in c:\\users\\tifa\\anaconda3\\lib\\site-packages (1.20.1)\n",
      "Requirement already satisfied: gensim in c:\\users\\tifa\\anaconda3\\lib\\site-packages (4.3.1)\n",
      "Requirement already satisfied: smart-open>=1.8.1 in c:\\users\\tifa\\anaconda3\\lib\\site-packages (from gensim) (6.3.0)\n",
      "Requirement already satisfied: numpy>=1.18.5 in c:\\users\\tifa\\anaconda3\\lib\\site-packages (from gensim) (1.20.1)\n",
      "Requirement already satisfied: scipy>=1.7.0 in c:\\users\\tifa\\anaconda3\\lib\\site-packages (from gensim) (1.10.1)\n"
     ]
    }
   ],
   "source": [
    "!pip install numpy\n",
    "!pip install gensim"
   ]
  },
  {
   "cell_type": "code",
   "execution_count": null,
   "metadata": {
    "execution": {
     "iopub.execute_input": "2023-05-03T14:18:30.548812Z",
     "iopub.status.busy": "2023-05-03T14:18:30.548251Z",
     "iopub.status.idle": "2023-05-03T14:18:30.555911Z",
     "shell.execute_reply": "2023-05-03T14:18:30.554802Z",
     "shell.execute_reply.started": "2023-05-03T14:18:30.548773Z"
    }
   },
   "outputs": [
    {
     "name": "stdout",
     "output_type": "stream",
     "text": [
      "Lessive liquide fraîcheur intense\n",
      "lessive liquide fraîcheur intense\n"
     ]
    }
   ],
   "source": [
    "print(products[\"description\"].iloc[0])\n",
    "print(products[\"new_description\"].iloc[0])"
   ]
  },
  {
   "cell_type": "code",
   "execution_count": null,
   "metadata": {},
   "outputs": [
    {
     "name": "stdout",
     "output_type": "stream",
     "text": [
      "Collecting scikit-learn\n",
      "  Downloading scikit_learn-1.2.2-cp310-cp310-win_amd64.whl (8.3 MB)\n",
      "     ---------------------------------------- 8.3/8.3 MB 243.4 kB/s eta 0:00:00\n",
      "Collecting threadpoolctl>=2.0.0\n",
      "  Using cached threadpoolctl-3.1.0-py3-none-any.whl (14 kB)\n",
      "Collecting joblib>=1.1.1\n",
      "  Downloading joblib-1.2.0-py3-none-any.whl (297 kB)\n",
      "     ------------------------------------ 298.0/298.0 kB 836.4 kB/s eta 0:00:00\n",
      "Requirement already satisfied: scipy>=1.3.2 in c:\\users\\tifa\\anaconda3\\envs\\env\\lib\\site-packages (from scikit-learn) (1.10.1)\n",
      "Requirement already satisfied: numpy>=1.17.3 in c:\\users\\tifa\\anaconda3\\envs\\env\\lib\\site-packages (from scikit-learn) (1.24.3)\n",
      "Installing collected packages: threadpoolctl, joblib, scikit-learn\n",
      "Successfully installed joblib-1.2.0 scikit-learn-1.2.2 threadpoolctl-3.1.0\n"
     ]
    }
   ],
   "source": [
    "!pip install scikit-learn\n"
   ]
  },
  {
   "cell_type": "code",
   "execution_count": null,
   "metadata": {},
   "outputs": [],
   "source": [
    "\n",
    "from sklearn.model_selection import train_test_split\n",
    "train_data, test_data = train_test_split(products, test_size=0.2, random_state=42)\n"
   ]
  },
  {
   "cell_type": "code",
   "execution_count": null,
   "metadata": {},
   "outputs": [
    {
     "name": "stdout",
     "output_type": "stream",
     "text": [
      "sacs poubelle 60x90cm\n",
      "['sacs', 'poubelle', '60x90cm']\n"
     ]
    }
   ],
   "source": [
    "from gensim.models.fasttext import FastText as FT_gensim\n",
    "\n",
    "corpus = train_data[\"new_description\"].tolist()\n",
    "sentences = [re.split(' ', str(sentence)) for sentence in corpus]\n",
    "print(corpus[0])\n",
    "print(sentences[0])"
   ]
  },
  {
   "cell_type": "code",
   "execution_count": null,
   "metadata": {},
   "outputs": [
    {
     "name": "stdout",
     "output_type": "stream",
     "text": [
      "chocolat lait au riz croustillant\n",
      "['chocolat', 'lait', 'au', 'riz', 'croustillant']\n"
     ]
    }
   ],
   "source": [
    "from gensim.models.fasttext import FastText as FT_gensim\n",
    "\n",
    "corpus = test_data[\"new_description\"].tolist()\n",
    "sentences = [re.split(' ', str(sentence)) for sentence in corpus]\n",
    "print(corpus[0])\n",
    "print(sentences[0])"
   ]
  },
  {
   "cell_type": "markdown",
   "metadata": {},
   "source": [
    "### 2. Embedding\n",
    "Split each sentence to make the corpus<br/>\n",
    "Embedding the corpus with Fasttext method<br/>\n",
    "Transform sentences to featrue vector"
   ]
  },
  {
   "cell_type": "code",
   "execution_count": null,
   "metadata": {
    "execution": {
     "iopub.execute_input": "2023-05-03T14:18:30.557900Z",
     "iopub.status.busy": "2023-05-03T14:18:30.557507Z",
     "iopub.status.idle": "2023-05-03T14:18:31.535716Z",
     "shell.execute_reply": "2023-05-03T14:18:31.534750Z",
     "shell.execute_reply.started": "2023-05-03T14:18:30.557869Z"
    }
   },
   "outputs": [
    {
     "name": "stdout",
     "output_type": "stream",
     "text": [
      "lessive liquide fraîcheur intense\n",
      "['lessive', 'liquide', 'fraîcheur', 'intense']\n"
     ]
    }
   ],
   "source": [
    "from gensim.models.fasttext import FastText as FT_gensim\n",
    "\n",
    "corpus = products[\"new_description\"].tolist()\n",
    "sentences = [re.split(' ', str(sentence)) for sentence in corpus]\n",
    "print(corpus[0])\n",
    "print(sentences[0])"
   ]
  },
  {
   "cell_type": "code",
   "execution_count": null,
   "metadata": {
    "execution": {
     "iopub.execute_input": "2023-05-03T14:18:31.537655Z",
     "iopub.status.busy": "2023-05-03T14:18:31.537104Z",
     "iopub.status.idle": "2023-05-03T14:19:00.562956Z",
     "shell.execute_reply": "2023-05-03T14:19:00.561879Z",
     "shell.execute_reply.started": "2023-05-03T14:18:31.537613Z"
    }
   },
   "outputs": [
    {
     "name": "stdout",
     "output_type": "stream",
     "text": [
      "corpus_count:  13687\n",
      "corpus_total_words:  61096\n",
      "FastText<vocab=3828, vector_size=30, alpha=0.025>\n"
     ]
    }
   ],
   "source": [
    "embedding_size = 30\n",
    "\n",
    "FT_model = FT_gensim(vector_size=embedding_size, min_count=2, min_n=2, max_n=5, sg=1, negative=10,\n",
    "                         sample=0.001, window=5, alpha=0.025, min_alpha=0.0001, epochs=50)\n",
    "\n",
    "FT_model.build_vocab(sentences)\n",
    "\n",
    "print('corpus_count: ', FT_model.corpus_count)\n",
    "print('corpus_total_words: ', FT_model.corpus_total_words)\n",
    "\n",
    "FT_model.train(sentences,\n",
    "    epochs=FT_model.epochs,\n",
    "    total_examples=FT_model.corpus_count, total_words=FT_model.corpus_total_words)\n",
    "\n",
    "print(FT_model)"
   ]
  },
  {
   "cell_type": "code",
   "execution_count": null,
   "metadata": {
    "execution": {
     "iopub.execute_input": "2023-05-03T14:19:00.566553Z",
     "iopub.status.busy": "2023-05-03T14:19:00.565945Z",
     "iopub.status.idle": "2023-05-03T14:19:03.494793Z",
     "shell.execute_reply": "2023-05-03T14:19:03.493667Z",
     "shell.execute_reply.started": "2023-05-03T14:19:00.566506Z"
    }
   },
   "outputs": [],
   "source": [
    "FT_vector = []\n",
    "\n",
    "for item in corpus:\n",
    "    FT_vector.append(FT_model.wv[str(item)])\n",
    "FT_vector = np.asarray(FT_vector)"
   ]
  },
  {
   "cell_type": "markdown",
   "metadata": {},
   "source": [
    "### 3. K-means Clustering\n",
    "Train k-means clustering with feature vector<br/>\n",
    "Add cluster_id on dataframe "
   ]
  },
  {
   "cell_type": "code",
   "execution_count": null,
   "metadata": {
    "execution": {
     "iopub.execute_input": "2023-05-03T14:19:03.497080Z",
     "iopub.status.busy": "2023-05-03T14:19:03.496697Z",
     "iopub.status.idle": "2023-05-03T14:19:10.810947Z",
     "shell.execute_reply": "2023-05-03T14:19:10.809613Z",
     "shell.execute_reply.started": "2023-05-03T14:19:03.497036Z"
    }
   },
   "outputs": [
    {
     "name": "stderr",
     "output_type": "stream",
     "text": [
      "c:\\Users\\Tifa\\anaconda3\\envs\\env\\lib\\site-packages\\sklearn\\cluster\\_kmeans.py:870: FutureWarning: The default value of `n_init` will change from 10 to 'auto' in 1.4. Set the value of `n_init` explicitly to suppress the warning\n",
      "  warnings.warn(\n"
     ]
    }
   ],
   "source": [
    "from sklearn.cluster import KMeans\n",
    "from scipy.spatial.distance import cdist\n",
    "\n",
    "kmeanModel = KMeans(n_clusters=50, random_state=42).fit(FT_vector)\n",
    "cluster_id = kmeanModel.predict(FT_vector)\n",
    "products[\"cluster_id\"] = cluster_id"
   ]
  },
  {
   "cell_type": "code",
   "execution_count": 44,
   "metadata": {},
   "outputs": [
    {
     "name": "stderr",
     "output_type": "stream",
     "text": [
      "c:\\Users\\Tifa\\anaconda3\\envs\\env\\lib\\site-packages\\sklearn\\cluster\\_kmeans.py:870: FutureWarning: The default value of `n_init` will change from 10 to 'auto' in 1.4. Set the value of `n_init` explicitly to suppress the warning\n",
      "  warnings.warn(\n"
     ]
    }
   ],
   "source": [
    "from sklearn.cluster import KMeans\n",
    "from scipy.spatial.distance import cdist\n",
    "\n",
    "kmeanModel = KMeans(n_clusters=50, random_state=42).fit(FT_vector)\n",
    "cluster_id = kmeanModel.predict(FT_vector)\n",
    "train_data[\"cluster_id\"] = cluster_id"
   ]
  },
  {
   "cell_type": "code",
   "execution_count": 45,
   "metadata": {},
   "outputs": [
    {
     "data": {
      "text/html": [
       "<div>\n",
       "<style scoped>\n",
       "    .dataframe tbody tr th:only-of-type {\n",
       "        vertical-align: middle;\n",
       "    }\n",
       "\n",
       "    .dataframe tbody tr th {\n",
       "        vertical-align: top;\n",
       "    }\n",
       "\n",
       "    .dataframe thead th {\n",
       "        text-align: right;\n",
       "    }\n",
       "</style>\n",
       "<table border=\"1\" class=\"dataframe\">\n",
       "  <thead>\n",
       "    <tr style=\"text-align: right;\">\n",
       "      <th></th>\n",
       "      <th>Unnamed: 0</th>\n",
       "      <th>product_id</th>\n",
       "      <th>title</th>\n",
       "      <th>listed_in</th>\n",
       "      <th>description</th>\n",
       "      <th>new_description</th>\n",
       "      <th>cluster_id</th>\n",
       "    </tr>\n",
       "  </thead>\n",
       "  <tbody>\n",
       "    <tr>\n",
       "      <th>5384</th>\n",
       "      <td>5384</td>\n",
       "      <td>16250</td>\n",
       "      <td>Sacs poubelle 60x90cm</td>\n",
       "      <td>Sacs poubelle</td>\n",
       "      <td>Sacs poubelle 60x90cm</td>\n",
       "      <td>sacs poubelle 60x90cm</td>\n",
       "      <td>24</td>\n",
       "    </tr>\n",
       "    <tr>\n",
       "      <th>8136</th>\n",
       "      <td>8136</td>\n",
       "      <td>18933</td>\n",
       "      <td>Chicken nuggets frais</td>\n",
       "      <td>Volaille</td>\n",
       "      <td>Chicken nuggets frais</td>\n",
       "      <td>chicken nuggets frais</td>\n",
       "      <td>48</td>\n",
       "    </tr>\n",
       "    <tr>\n",
       "      <th>8840</th>\n",
       "      <td>8840</td>\n",
       "      <td>19593</td>\n",
       "      <td>Casquette Army Navy</td>\n",
       "      <td>Casquette</td>\n",
       "      <td>Casquette Army Navy</td>\n",
       "      <td>casquette army navy</td>\n",
       "      <td>34</td>\n",
       "    </tr>\n",
       "    <tr>\n",
       "      <th>4828</th>\n",
       "      <td>4828</td>\n",
       "      <td>1570</td>\n",
       "      <td>Couteau à désosser acier inoxydable</td>\n",
       "      <td>Ustensiles de cuisine</td>\n",
       "      <td>Couteau à désosser acier inoxydable</td>\n",
       "      <td>couteau à désosser acier inoxydable</td>\n",
       "      <td>1</td>\n",
       "    </tr>\n",
       "    <tr>\n",
       "      <th>63</th>\n",
       "      <td>63</td>\n",
       "      <td>1055</td>\n",
       "      <td>Masque capillaire à l'huile d'argan et beurre ...</td>\n",
       "      <td>Soins capillaires</td>\n",
       "      <td>Masque capillaire à l'huile d'argan et beurre ...</td>\n",
       "      <td>masque capillaire à l huile d argan et beurre ...</td>\n",
       "      <td>13</td>\n",
       "    </tr>\n",
       "    <tr>\n",
       "      <th>...</th>\n",
       "      <td>...</td>\n",
       "      <td>...</td>\n",
       "      <td>...</td>\n",
       "      <td>...</td>\n",
       "      <td>...</td>\n",
       "      <td>...</td>\n",
       "      <td>...</td>\n",
       "    </tr>\n",
       "    <tr>\n",
       "      <th>11284</th>\n",
       "      <td>11284</td>\n",
       "      <td>2367</td>\n",
       "      <td>Verveine infusion</td>\n",
       "      <td>Thé et infusions</td>\n",
       "      <td>Verveine infusion</td>\n",
       "      <td>verveine infusion</td>\n",
       "      <td>31</td>\n",
       "    </tr>\n",
       "    <tr>\n",
       "      <th>11964</th>\n",
       "      <td>11964</td>\n",
       "      <td>3001</td>\n",
       "      <td>Crème déssert chocolat</td>\n",
       "      <td>Crème dessert</td>\n",
       "      <td>Crème dessert chocolat</td>\n",
       "      <td>crème dessert chocolat</td>\n",
       "      <td>3</td>\n",
       "    </tr>\n",
       "    <tr>\n",
       "      <th>5390</th>\n",
       "      <td>5390</td>\n",
       "      <td>16256</td>\n",
       "      <td>Bocal en verre bois 10cm</td>\n",
       "      <td>Boites de conservation</td>\n",
       "      <td>Bocal en verre bois 10cm</td>\n",
       "      <td>bocal en verre bois 10cm</td>\n",
       "      <td>21</td>\n",
       "    </tr>\n",
       "    <tr>\n",
       "      <th>860</th>\n",
       "      <td>860</td>\n",
       "      <td>11919</td>\n",
       "      <td>Baguette</td>\n",
       "      <td>Pains et biscottes</td>\n",
       "      <td>Baguette</td>\n",
       "      <td>baguette</td>\n",
       "      <td>33</td>\n",
       "    </tr>\n",
       "    <tr>\n",
       "      <th>15795</th>\n",
       "      <td>15795</td>\n",
       "      <td>7072</td>\n",
       "      <td>Eponge à récurer Cello protect</td>\n",
       "      <td>Accessoires ménagers</td>\n",
       "      <td>Eponge à récurer Cello protect</td>\n",
       "      <td>eponge à récurer cello protect</td>\n",
       "      <td>39</td>\n",
       "    </tr>\n",
       "  </tbody>\n",
       "</table>\n",
       "<p>13687 rows × 7 columns</p>\n",
       "</div>"
      ],
      "text/plain": [
       "       Unnamed: 0  product_id   \n",
       "5384         5384       16250  \\\n",
       "8136         8136       18933   \n",
       "8840         8840       19593   \n",
       "4828         4828        1570   \n",
       "63             63        1055   \n",
       "...           ...         ...   \n",
       "11284       11284        2367   \n",
       "11964       11964        3001   \n",
       "5390         5390       16256   \n",
       "860           860       11919   \n",
       "15795       15795        7072   \n",
       "\n",
       "                                                   title   \n",
       "5384                               Sacs poubelle 60x90cm  \\\n",
       "8136                               Chicken nuggets frais   \n",
       "8840                                 Casquette Army Navy   \n",
       "4828                 Couteau à désosser acier inoxydable   \n",
       "63     Masque capillaire à l'huile d'argan et beurre ...   \n",
       "...                                                  ...   \n",
       "11284                                  Verveine infusion   \n",
       "11964                             Crème déssert chocolat   \n",
       "5390                            Bocal en verre bois 10cm   \n",
       "860                                             Baguette   \n",
       "15795                     Eponge à récurer Cello protect   \n",
       "\n",
       "                    listed_in   \n",
       "5384            Sacs poubelle  \\\n",
       "8136                 Volaille   \n",
       "8840                Casquette   \n",
       "4828    Ustensiles de cuisine   \n",
       "63          Soins capillaires   \n",
       "...                       ...   \n",
       "11284        Thé et infusions   \n",
       "11964           Crème dessert   \n",
       "5390   Boites de conservation   \n",
       "860        Pains et biscottes   \n",
       "15795    Accessoires ménagers   \n",
       "\n",
       "                                             description   \n",
       "5384                               Sacs poubelle 60x90cm  \\\n",
       "8136                               Chicken nuggets frais   \n",
       "8840                                 Casquette Army Navy   \n",
       "4828                 Couteau à désosser acier inoxydable   \n",
       "63     Masque capillaire à l'huile d'argan et beurre ...   \n",
       "...                                                  ...   \n",
       "11284                                  Verveine infusion   \n",
       "11964                             Crème dessert chocolat   \n",
       "5390                            Bocal en verre bois 10cm   \n",
       "860                                             Baguette   \n",
       "15795                     Eponge à récurer Cello protect   \n",
       "\n",
       "                                         new_description  cluster_id  \n",
       "5384                               sacs poubelle 60x90cm          24  \n",
       "8136                               chicken nuggets frais          48  \n",
       "8840                                 casquette army navy          34  \n",
       "4828                 couteau à désosser acier inoxydable           1  \n",
       "63     masque capillaire à l huile d argan et beurre ...          13  \n",
       "...                                                  ...         ...  \n",
       "11284                                  verveine infusion          31  \n",
       "11964                             crème dessert chocolat           3  \n",
       "5390                            bocal en verre bois 10cm          21  \n",
       "860                                             baguette          33  \n",
       "15795                     eponge à récurer cello protect          39  \n",
       "\n",
       "[13687 rows x 7 columns]"
      ]
     },
     "execution_count": 45,
     "metadata": {},
     "output_type": "execute_result"
    }
   ],
   "source": [
    "train_data"
   ]
  },
  {
   "cell_type": "code",
   "execution_count": null,
   "metadata": {},
   "outputs": [],
   "source": [
    "from sklearn.cluster import KMeans\n",
    "from scipy.spatial.distance import cdist\n",
    "\n",
    "kmeanModel = KMeans(n_clusters=50, random_state=42).fit(FT_vector)\n",
    "cluster_id = kmeanModel.predict(FT_vector)\n",
    "test_data[\"cluster_id\"] = cluster_id"
   ]
  },
  {
   "cell_type": "markdown",
   "metadata": {},
   "source": [
    "### 4. Recommendation system\n",
    "Searching similarity of new description between source products and target products in same cluster<br/>\n",
    "Sorting dataframe with similarity and return title of most similar product with number of top_k"
   ]
  },
  {
   "cell_type": "code",
   "execution_count": 47,
   "metadata": {
    "execution": {
     "iopub.execute_input": "2023-05-03T15:18:19.578002Z",
     "iopub.status.busy": "2023-05-03T15:18:19.577636Z",
     "iopub.status.idle": "2023-05-03T15:18:19.585157Z",
     "shell.execute_reply": "2023-05-03T15:18:19.584074Z",
     "shell.execute_reply.started": "2023-05-03T15:18:19.577968Z"
    }
   },
   "outputs": [],
   "source": [
    "def recommendation_system(title_name):\n",
    "    top_k = 5\n",
    "    title_row = train_data[train_data[\"title\"] == title_name].copy()\n",
    "    search_df = train_data[train_data[\"cluster_id\"].isin(title_row[\"cluster_id\"])].copy()\n",
    "    search_df = search_df.drop(search_df[search_df[\"title\"] == title_name].index)\n",
    "    \n",
    "    search_df[\"Similarity\"] = search_df.apply(lambda x: FT_model.wv.similarity(title_row[\"new_description\"], x[\"new_description\"]), axis=1)\n",
    "    search_df.sort_values(by=[\"Similarity\"], ascending=False, inplace=True)\n",
    "    \n",
    "    return search_df[[\"title\", \"Similarity\"]].head(top_k)"
   ]
  },
  {
   "cell_type": "code",
   "execution_count": null,
   "metadata": {},
   "outputs": [],
   "source": [
    "def evaluate_model(test_data):\n",
    "    top_k = 15\n",
    "    total_precision = 0\n",
    "    total_recall = 0\n",
    "    total_f1 = 0\n",
    "\n",
    "    for _, test_item in test_data.iterrows():\n",
    "        item_title = test_item['title']\n",
    "        item_cluster_id = test_item['cluster_id']\n",
    "\n",
    "        # Generate recommendations for the test item\n",
    "        title_row = train_data[train_data[\"title\"] == item_title].copy()\n",
    "        search_df = train_data[train_data[\"cluster_id\"].isin(title_row[\"cluster_id\"])].copy()\n",
    "        search_df = search_df.drop(search_df[search_df[\"title\"] == item_title].index)\n",
    "        title_description = title_row.iloc[0]['new_description']\n",
    "        search_df[\"Similarity\"] = search_df.apply(lambda x: FT_model.wv.similarity(title_description, x[\"new_description\"]), axis=1)\n",
    "        recommended_items = search_df[\"title\"].head(top_k).tolist()\n",
    "\n",
    "        # Get ground truth items for the test item\n",
    "        ground_truth_items = train_data[(train_data[\"cluster_id\"] == item_cluster_id) & (train_data[\"title\"] != item_title)][\"title\"].unique()\n",
    "\n",
    "\n",
    "        # Calculate evaluation metrics\n",
    "        tp = len(set(recommended_items) & set(ground_truth_items))\n",
    "        precision = tp / top_k\n",
    "        recall = tp / len(ground_truth_items)\n",
    "        #f1_score = 2 * (precision * recall) / (precision + recall)\n",
    "\n",
    "        total_precision += precision\n",
    "        total_recall += recall\n",
    "        \"\"\"print(total_recall)\n",
    "        print(total_precision)\n",
    "        #total_f1 += f1_score\n",
    "        print(\"-------------------------------------------\")\"\"\"\n",
    "\n",
    "    # Calculate average metrics\n",
    "    avg_precision = total_precision / len(test_data)\n",
    "   \n",
    "    avg_recall = total_recall / len(test_data)\n",
    "    #avg_f1 = total_f1 / len(test_data)\n",
    "    \"\"\" print(avg_recall)\n",
    "    print(\"-------------------------------------------\")\n",
    "    \"\"\"\n",
    "    return avg_precision, avg_recall\n",
    "\n",
    "# Evaluate the model using the test data\n",
    "avg_precision, avg_recall = evaluate_model(test_data)\n",
    "print(\"Average Precision: {:.4f}\".format(avg_precision))\n",
    "print(\"Average Recall: {:.4f}\".format(avg_recall))\n",
    "#print(\"Average F1-Score: {:.4f}\".format(avg_f1))\n"
   ]
  },
  {
   "cell_type": "code",
   "execution_count": null,
   "metadata": {},
   "outputs": [],
   "source": [
    "print(\"Average Precision: {:.4f}\".format(avg_precision))\n",
    "print(\"Average Recall: {:.4f}\".format(avg_recall))"
   ]
  },
  {
   "cell_type": "code",
   "execution_count": 48,
   "metadata": {
    "execution": {
     "iopub.execute_input": "2023-05-03T14:19:10.836901Z",
     "iopub.status.busy": "2023-05-03T14:19:10.836469Z",
     "iopub.status.idle": "2023-05-03T14:19:11.039317Z",
     "shell.execute_reply": "2023-05-03T14:19:11.038363Z",
     "shell.execute_reply.started": "2023-05-03T14:19:10.836856Z"
    }
   },
   "outputs": [
    {
     "data": {
      "text/html": [
       "<div>\n",
       "<style scoped>\n",
       "    .dataframe tbody tr th:only-of-type {\n",
       "        vertical-align: middle;\n",
       "    }\n",
       "\n",
       "    .dataframe tbody tr th {\n",
       "        vertical-align: top;\n",
       "    }\n",
       "\n",
       "    .dataframe thead th {\n",
       "        text-align: right;\n",
       "    }\n",
       "</style>\n",
       "<table border=\"1\" class=\"dataframe\">\n",
       "  <thead>\n",
       "    <tr style=\"text-align: right;\">\n",
       "      <th></th>\n",
       "      <th>title</th>\n",
       "      <th>Similarity</th>\n",
       "    </tr>\n",
       "  </thead>\n",
       "  <tbody>\n",
       "    <tr>\n",
       "      <th>51</th>\n",
       "      <td>Lessive liquide musc blanc</td>\n",
       "      <td>[0.9940411]</td>\n",
       "    </tr>\n",
       "    <tr>\n",
       "      <th>7232</th>\n",
       "      <td>Lessive liquide bleu</td>\n",
       "      <td>[0.9771272]</td>\n",
       "    </tr>\n",
       "    <tr>\n",
       "      <th>235</th>\n",
       "      <td>Lessive liquide rose</td>\n",
       "      <td>[0.9756418]</td>\n",
       "    </tr>\n",
       "    <tr>\n",
       "      <th>12800</th>\n",
       "      <td>Lessive liquide linge noir</td>\n",
       "      <td>[0.9727341]</td>\n",
       "    </tr>\n",
       "    <tr>\n",
       "      <th>13637</th>\n",
       "      <td>Lessive liquide linge noir</td>\n",
       "      <td>[0.9727341]</td>\n",
       "    </tr>\n",
       "  </tbody>\n",
       "</table>\n",
       "</div>"
      ],
      "text/plain": [
       "                            title   Similarity\n",
       "51     Lessive liquide musc blanc  [0.9940411]\n",
       "7232         Lessive liquide bleu  [0.9771272]\n",
       "235          Lessive liquide rose  [0.9756418]\n",
       "12800  Lessive liquide linge noir  [0.9727341]\n",
       "13637  Lessive liquide linge noir  [0.9727341]"
      ]
     },
     "execution_count": 48,
     "metadata": {},
     "output_type": "execute_result"
    }
   ],
   "source": [
    "recommendation_system(\"Lessive liquide blanc\")"
   ]
  },
  {
   "cell_type": "markdown",
   "metadata": {
    "execution": {
     "iopub.execute_input": "2023-05-02T16:20:28.911659Z",
     "iopub.status.busy": "2023-05-02T16:20:28.911331Z",
     "iopub.status.idle": "2023-05-02T16:20:52.041579Z",
     "shell.execute_reply": "2023-05-02T16:20:52.039781Z",
     "shell.execute_reply.started": "2023-05-02T16:20:28.911628Z"
    }
   },
   "source": [
    "### Loop through all products titles in the DataFrame\n",
    "\n"
   ]
  },
  {
   "cell_type": "code",
   "execution_count": null,
   "metadata": {
    "execution": {
     "iopub.execute_input": "2023-05-03T15:18:28.838029Z",
     "iopub.status.busy": "2023-05-03T15:18:28.837690Z",
     "iopub.status.idle": "2023-05-03T15:18:28.844968Z",
     "shell.execute_reply": "2023-05-03T15:18:28.843917Z",
     "shell.execute_reply.started": "2023-05-03T15:18:28.837996Z"
    }
   },
   "outputs": [],
   "source": [
    "def recommendation_system(products, title_name):\n",
    "    top_k = 5\n",
    "    title_row = products[products[\"title\"] == title_name].copy()\n",
    "    search_df = products[products[\"cluster_id\"].isin(title_row[\"cluster_id\"])].copy()\n",
    "    search_df = search_df.drop(search_df[search_df[\"title\"] == title_name].index)\n",
    "    \n",
    "    search_df[\"Similarity\"] = search_df.apply(lambda x: FT_model.wv.similarity(title_row[\"new_description\"], x[\"new_description\"]), axis=1)\n",
    "    search_df.sort_values(by=[\"Similarity\"], ascending=False, inplace=True)\n",
    "    \n",
    "    result_df = search_df[[\"title\", \"Similarity\"]].head(top_k)\n",
    "    result_df.reset_index(drop=True, inplace=True)\n",
    "    result_df.index += 1\n",
    "    \n",
    "    return result_df\n"
   ]
  },
  {
   "cell_type": "code",
   "execution_count": null,
   "metadata": {
    "collapsed": true,
    "execution": {
     "iopub.execute_input": "2023-05-03T15:18:39.979661Z",
     "iopub.status.busy": "2023-05-03T15:18:39.979292Z",
     "iopub.status.idle": "2023-05-03T15:18:42.814962Z",
     "shell.execute_reply": "2023-05-03T15:18:42.813205Z",
     "shell.execute_reply.started": "2023-05-03T15:18:39.979628Z"
    },
    "jupyter": {
     "outputs_hidden": true
    }
   },
   "outputs": [],
   "source": [
    "# Create an empty dataframe to store the results\n",
    "all_recommendations = pd.DataFrame(columns=[\"title\", \"Similarity\", \"Rank\"])\n",
    "\n",
    "# Loop through each movie title in the netflix dataframe\n",
    "for title in products[\"title\"].unique():\n",
    "    # Call the recommendation_system function on the current movie title and concatenate the results\n",
    "    result_df = recommendation_system(products, title)\n",
    "    result_df[\"Rank\"] = result_df.index\n",
    "    result_df.insert(0, \"Query Title\", title)\n",
    "    all_recommendations = pd.concat([all_recommendations, result_df])\n",
    "\n",
    "# Reset the index of the concatenated dataframe\n",
    "all_recommendations.reset_index(drop=True, inplace=True)\n"
   ]
  },
  {
   "cell_type": "code",
   "execution_count": null,
   "metadata": {
    "execution": {
     "iopub.execute_input": "2023-05-03T15:17:59.639291Z",
     "iopub.status.busy": "2023-05-03T15:17:59.638920Z",
     "iopub.status.idle": "2023-05-03T15:17:59.658518Z",
     "shell.execute_reply": "2023-05-03T15:17:59.657268Z",
     "shell.execute_reply.started": "2023-05-03T15:17:59.639258Z"
    }
   },
   "outputs": [
    {
     "data": {
      "text/html": [
       "<div>\n",
       "<style scoped>\n",
       "    .dataframe tbody tr th:only-of-type {\n",
       "        vertical-align: middle;\n",
       "    }\n",
       "\n",
       "    .dataframe tbody tr th {\n",
       "        vertical-align: top;\n",
       "    }\n",
       "\n",
       "    .dataframe thead th {\n",
       "        text-align: right;\n",
       "    }\n",
       "</style>\n",
       "<table border=\"1\" class=\"dataframe\">\n",
       "  <thead>\n",
       "    <tr style=\"text-align: right;\">\n",
       "      <th></th>\n",
       "      <th>title</th>\n",
       "      <th>Similarity</th>\n",
       "      <th>Rank</th>\n",
       "      <th>Query Title</th>\n",
       "    </tr>\n",
       "  </thead>\n",
       "  <tbody>\n",
       "    <tr>\n",
       "      <th>0</th>\n",
       "      <td>Lessive liquide Lagon Bleu</td>\n",
       "      <td>[0.9351474]</td>\n",
       "      <td>1</td>\n",
       "      <td>Lessive liquide fraîcheur intense</td>\n",
       "    </tr>\n",
       "    <tr>\n",
       "      <th>1</th>\n",
       "      <td>Lessive liquide laine</td>\n",
       "      <td>[0.9443752]</td>\n",
       "      <td>2</td>\n",
       "      <td>Lessive liquide fraîcheur intense</td>\n",
       "    </tr>\n",
       "    <tr>\n",
       "      <th>2</th>\n",
       "      <td>Lessive liquide couleurs et tissus</td>\n",
       "      <td>[0.8845695]</td>\n",
       "      <td>3</td>\n",
       "      <td>Lessive liquide fraîcheur intense</td>\n",
       "    </tr>\n",
       "    <tr>\n",
       "      <th>3</th>\n",
       "      <td>Lessive liquide  couleurs et tissus</td>\n",
       "      <td>[0.8845695]</td>\n",
       "      <td>4</td>\n",
       "      <td>Lessive liquide fraîcheur intense</td>\n",
       "    </tr>\n",
       "    <tr>\n",
       "      <th>4</th>\n",
       "      <td>Lessive liquide musc blanc</td>\n",
       "      <td>[0.9322029]</td>\n",
       "      <td>5</td>\n",
       "      <td>Lessive liquide fraîcheur intense</td>\n",
       "    </tr>\n",
       "    <tr>\n",
       "      <th>...</th>\n",
       "      <td>...</td>\n",
       "      <td>...</td>\n",
       "      <td>...</td>\n",
       "      <td>...</td>\n",
       "    </tr>\n",
       "    <tr>\n",
       "      <th>69880</th>\n",
       "      <td>Coton-tiges</td>\n",
       "      <td>[0.64943004]</td>\n",
       "      <td>1</td>\n",
       "      <td>Compote  de légumes</td>\n",
       "    </tr>\n",
       "    <tr>\n",
       "      <th>69881</th>\n",
       "      <td>Tomates séchées marinées bio</td>\n",
       "      <td>[0.8045226]</td>\n",
       "      <td>2</td>\n",
       "      <td>Compote  de légumes</td>\n",
       "    </tr>\n",
       "    <tr>\n",
       "      <th>69882</th>\n",
       "      <td>Lasagnes</td>\n",
       "      <td>[0.7308018]</td>\n",
       "      <td>3</td>\n",
       "      <td>Compote  de légumes</td>\n",
       "    </tr>\n",
       "    <tr>\n",
       "      <th>69883</th>\n",
       "      <td>Fève trempée</td>\n",
       "      <td>[0.81348705]</td>\n",
       "      <td>4</td>\n",
       "      <td>Compote  de légumes</td>\n",
       "    </tr>\n",
       "    <tr>\n",
       "      <th>69884</th>\n",
       "      <td>Fèves trempées</td>\n",
       "      <td>[0.81348705]</td>\n",
       "      <td>5</td>\n",
       "      <td>Compote  de légumes</td>\n",
       "    </tr>\n",
       "  </tbody>\n",
       "</table>\n",
       "<p>69885 rows × 4 columns</p>\n",
       "</div>"
      ],
      "text/plain": [
       "                                     title    Similarity Rank  \\\n",
       "0               Lessive liquide Lagon Bleu   [0.9351474]    1   \n",
       "1                    Lessive liquide laine   [0.9443752]    2   \n",
       "2       Lessive liquide couleurs et tissus   [0.8845695]    3   \n",
       "3      Lessive liquide  couleurs et tissus   [0.8845695]    4   \n",
       "4               Lessive liquide musc blanc   [0.9322029]    5   \n",
       "...                                    ...           ...  ...   \n",
       "69880                          Coton-tiges  [0.64943004]    1   \n",
       "69881        Tomates séchées marinées bio    [0.8045226]    2   \n",
       "69882                             Lasagnes   [0.7308018]    3   \n",
       "69883                         Fève trempée  [0.81348705]    4   \n",
       "69884                      Fèves trempées   [0.81348705]    5   \n",
       "\n",
       "                             Query Title  \n",
       "0      Lessive liquide fraîcheur intense  \n",
       "1      Lessive liquide fraîcheur intense  \n",
       "2      Lessive liquide fraîcheur intense  \n",
       "3      Lessive liquide fraîcheur intense  \n",
       "4      Lessive liquide fraîcheur intense  \n",
       "...                                  ...  \n",
       "69880             Compote  de légumes     \n",
       "69881             Compote  de légumes     \n",
       "69882             Compote  de légumes     \n",
       "69883             Compote  de légumes     \n",
       "69884             Compote  de légumes     \n",
       "\n",
       "[69885 rows x 4 columns]"
      ]
     },
     "execution_count": 25,
     "metadata": {},
     "output_type": "execute_result"
    }
   ],
   "source": [
    "all_recommendations"
   ]
  },
  {
   "cell_type": "code",
   "execution_count": null,
   "metadata": {
    "execution": {
     "iopub.execute_input": "2023-05-03T15:13:49.414599Z",
     "iopub.status.busy": "2023-05-03T15:13:49.414216Z",
     "iopub.status.idle": "2023-05-03T15:13:56.654269Z",
     "shell.execute_reply": "2023-05-03T15:13:56.653232Z",
     "shell.execute_reply.started": "2023-05-03T15:13:49.414564Z"
    }
   },
   "outputs": [],
   "source": [
    "all_recommendations.to_csv('all_recommendations.csv')"
   ]
  }
 ],
 "metadata": {
  "kernelspec": {
   "display_name": "Python 3",
   "language": "python",
   "name": "python3"
  },
  "language_info": {
   "codemirror_mode": {
    "name": "ipython",
    "version": 3
   },
   "file_extension": ".py",
   "mimetype": "text/x-python",
   "name": "python",
   "nbconvert_exporter": "python",
   "pygments_lexer": "ipython3",
   "version": "3.8.8"
  }
 },
 "nbformat": 4,
 "nbformat_minor": 4
}
